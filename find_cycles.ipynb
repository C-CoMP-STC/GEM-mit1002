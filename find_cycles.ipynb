{
 "cells": [
  {
   "cell_type": "code",
   "execution_count": null,
   "metadata": {},
   "outputs": [],
   "source": [
    "# Try my own code to find ATP generating cycles in the model"
   ]
  },
  {
   "cell_type": "code",
   "execution_count": 1,
   "metadata": {},
   "outputs": [
    {
     "name": "stderr",
     "output_type": "stream",
     "text": [
      "/Users/helenscott/opt/miniconda3/envs/med4-hot1a3/lib/python3.10/site-packages/scipy/__init__.py:155: UserWarning: A NumPy version >=1.18.5 and <1.26.0 is required for this version of SciPy (detected version 1.26.0\n",
      "  warnings.warn(f\"A NumPy version >={np_minversion} and <{np_maxversion}\"\n"
     ]
    }
   ],
   "source": [
    "import cobra"
   ]
  },
  {
   "cell_type": "code",
   "execution_count": 2,
   "metadata": {},
   "outputs": [
    {
     "name": "stderr",
     "output_type": "stream",
     "text": [
      "'' is not a valid SBML 'SId'.\n"
     ]
    }
   ],
   "source": [
    "model = cobra.io.read_sbml_model('model.xml')"
   ]
  },
  {
   "cell_type": "code",
   "execution_count": 13,
   "metadata": {},
   "outputs": [],
   "source": [
    "# Add disspation reaction the same way that MEMOTE does\n",
    "# Make a reaction with water as the reactant, and H+ and phosphate as the products\n",
    "model.add_reactions([cobra.Reaction('dissipation')])\n",
    "model.reactions.get_by_id('dissipation').add_metabolites({model.metabolites.get_by_id('cpd00001_c0'):-1,\n",
    "                                                            model.metabolites.get_by_id('cpd00067_c0'):1,\n",
    "                                                            model.metabolites.get_by_id('cpd00009_c0'):1})"
   ]
  },
  {
   "cell_type": "code",
   "execution_count": 16,
   "metadata": {},
   "outputs": [
    {
     "data": {
      "text/html": [
       "\n",
       "        <table>\n",
       "            <tr>\n",
       "                <td><strong>Reaction identifier</strong></td><td>dissipation</td>\n",
       "            </tr><tr>\n",
       "                <td><strong>Name</strong></td><td></td>\n",
       "            </tr><tr>\n",
       "                <td><strong>Memory address</strong></td>\n",
       "                <td>0x169702860</td>\n",
       "            </tr><tr>\n",
       "                <td><strong>Stoichiometry</strong></td>\n",
       "                <td>\n",
       "                    <p style='text-align:right'>cpd00001_c0 <=> cpd00009_c0 + cpd00067_c0</p>\n",
       "                    <p style='text-align:right'>H2O [c0] <=> Phosphate [c0] + H+ [c0]</p>\n",
       "                </td>\n",
       "            </tr><tr>\n",
       "                <td><strong>GPR</strong></td><td></td>\n",
       "            </tr><tr>\n",
       "                <td><strong>Lower bound</strong></td><td>-1000</td>\n",
       "            </tr><tr>\n",
       "                <td><strong>Upper bound</strong></td><td>1000.0</td>\n",
       "            </tr>\n",
       "        </table>\n",
       "        "
      ],
      "text/plain": [
       "<Reaction dissipation at 0x169702860>"
      ]
     },
     "execution_count": 16,
     "metadata": {},
     "output_type": "execute_result"
    }
   ],
   "source": [
    "model.reactions.dissipation.lower_bound = -1000\n",
    "model.reactions.dissipation"
   ]
  },
  {
   "cell_type": "code",
   "execution_count": 10,
   "metadata": {},
   "outputs": [
    {
     "name": "stderr",
     "output_type": "stream",
     "text": [
      "Could not identify an external compartment by name and choosing one with the most boundary reactions. That might be complete nonsense or change suddenly. Consider renaming your compartments using `Model.compartments` to fix this.\n"
     ]
    }
   ],
   "source": [
    "# Block all exchange reactions excpet for water\n",
    "media = {'EX_cpd00001_e0': 1000}\n",
    "model.medium = media"
   ]
  },
  {
   "cell_type": "code",
   "execution_count": 4,
   "metadata": {},
   "outputs": [],
   "source": [
    "# A function that checks if a specific reaction is a maintenace reaction\n",
    "# by checking if the reaction has only ATP and water as reactants and\n",
    "# only ADP, hydrogen, and phosphate as products.\n",
    "def is_maintenance_reaction(model, reaction):\n",
    "    # A list of the IDs of the reactants and products that are allowed\n",
    "    # in a maintenance reaction. Have to specify the compartment of the\n",
    "    # metabolites, this may be a problem if different models use\n",
    "    # different compartment IDs.\n",
    "    # ATP and water are allowed reactants.\n",
    "    allowed_reactants = ['cpd00002_c0', 'cpd00001_c0']\n",
    "    # ADP, phosphate, and protons are allowed products.\n",
    "    allowed_products = ['cpd00008_c0', 'cpd00009_c0', 'cpd00067_c0']\n",
    "    # Check if the reaction has only the allowed reactants and products\n",
    "    # in any order.\n",
    "    if any (met.id not in allowed_reactants for met in reaction.reactants):\n",
    "        return False\n",
    "    if any (met.id not in allowed_products for met in reaction.products):\n",
    "        return False\n",
    "    else:\n",
    "        return True\n",
    "\n",
    "# A function that searches all the reactions in a model for a maintenance\n",
    "# reaction, and returns the reaction if it finds one.\n",
    "def find_maintenance_reaction(model):\n",
    "    maintenace_rxns = []\n",
    "    for reaction in model.reactions:\n",
    "        if is_maintenance_reaction(model, reaction):\n",
    "            maintenace_rxns.append(reaction)\n",
    "    # If there is only one maintenance reaction, return it.\n",
    "    if len(maintenace_rxns) == 1:\n",
    "        return maintenace_rxns[0]\n",
    "    # If there are no maintenance reactions, return None.\n",
    "    elif len(maintenace_rxns) == 0:\n",
    "        return None\n",
    "    # If there are multiple maintenance reactions, return a list of them\n",
    "    # and print a warning.\n",
    "    else:\n",
    "        print('Warning: multiple maintenance reactions found.')\n",
    "        return maintenace_rxns"
   ]
  },
  {
   "cell_type": "code",
   "execution_count": 6,
   "metadata": {},
   "outputs": [
    {
     "name": "stdout",
     "output_type": "stream",
     "text": [
      "Warning: multiple maintenance reactions found.\n"
     ]
    },
    {
     "data": {
      "text/html": [
       "\n",
       "        <table>\n",
       "            <tr>\n",
       "                <td><strong>Reaction identifier</strong></td><td>rxn00062_c0</td>\n",
       "            </tr><tr>\n",
       "                <td><strong>Name</strong></td><td>ATP hydrolysis</td>\n",
       "            </tr><tr>\n",
       "                <td><strong>Memory address</strong></td>\n",
       "                <td>0x176165a50</td>\n",
       "            </tr><tr>\n",
       "                <td><strong>Stoichiometry</strong></td>\n",
       "                <td>\n",
       "                    <p style='text-align:right'>cpd00001_c0 + cpd00002_c0 --> cpd00008_c0 + cpd00009_c0 + cpd00067_c0</p>\n",
       "                    <p style='text-align:right'>H2O [c0] + ATP [c0] --> ADP [c0] + Phosphate [c0] + H+ [c0]</p>\n",
       "                </td>\n",
       "            </tr><tr>\n",
       "                <td><strong>GPR</strong></td><td></td>\n",
       "            </tr><tr>\n",
       "                <td><strong>Lower bound</strong></td><td>0.0</td>\n",
       "            </tr><tr>\n",
       "                <td><strong>Upper bound</strong></td><td>1000.0</td>\n",
       "            </tr>\n",
       "        </table>\n",
       "        "
      ],
      "text/plain": [
       "<Reaction rxn00062_c0 at 0x176165a50>"
      ]
     },
     "execution_count": 6,
     "metadata": {},
     "output_type": "execute_result"
    }
   ],
   "source": [
    "# Do I have a maintenance reaction\n",
    "atpm = find_maintenance_reaction(model)[0]\n",
    "atpm"
   ]
  },
  {
   "cell_type": "code",
   "execution_count": 7,
   "metadata": {},
   "outputs": [],
   "source": [
    "# Set the objective to be the ATP maintenance reaction\n",
    "model.objective = atpm"
   ]
  },
  {
   "cell_type": "code",
   "execution_count": 18,
   "metadata": {},
   "outputs": [
    {
     "name": "stdout",
     "output_type": "stream",
     "text": [
      "rxn05312_c0      -1000.0\n",
      "rxn08173_c0        250.0\n",
      "rxn05319_c0       1000.0\n",
      "rxn00062_c0        250.0\n",
      "EX_cpd00009_e0    1000.0\n",
      "EX_cpd00001_e0   -1000.0\n",
      "DM_cpd00067_c0    1000.0\n",
      "dissipation       1000.0\n",
      "Name: fluxes, dtype: float64\n"
     ]
    }
   ],
   "source": [
    "# Run and get just the non-zero fluxes\n",
    "sol = model.optimize()\n",
    "fluxes = sol.fluxes[sol.fluxes != 0]\n",
    "print(fluxes)"
   ]
  },
  {
   "cell_type": "code",
   "execution_count": 19,
   "metadata": {},
   "outputs": [
    {
     "data": {
      "text/html": [
       "\n",
       "        <table>\n",
       "            <tr>\n",
       "                <td><strong>Reaction identifier</strong></td><td>rxn08173_c0</td>\n",
       "            </tr><tr>\n",
       "                <td><strong>Name</strong></td><td>F(1)-ATPase [c0]</td>\n",
       "            </tr><tr>\n",
       "                <td><strong>Memory address</strong></td>\n",
       "                <td>0x176094a60</td>\n",
       "            </tr><tr>\n",
       "                <td><strong>Stoichiometry</strong></td>\n",
       "                <td>\n",
       "                    <p style='text-align:right'>cpd00008_c0 + cpd00009_c0 + 4.0 cpd00067_e0 <=> cpd00001_c0 + cpd00002_c0 + 3.0 cpd00067_c0</p>\n",
       "                    <p style='text-align:right'>ADP [c0] + Phosphate [c0] + 4.0 H+ [e0] <=> H2O [c0] + ATP [c0] + 3.0 H+ [c0]</p>\n",
       "                </td>\n",
       "            </tr><tr>\n",
       "                <td><strong>GPR</strong></td><td>MIT1002_04119 and MIT1002_04115 and MIT1002_04117 and MIT1002_04113 and MIT1002_04120 and...</td>\n",
       "            </tr><tr>\n",
       "                <td><strong>Lower bound</strong></td><td>-1000.0</td>\n",
       "            </tr><tr>\n",
       "                <td><strong>Upper bound</strong></td><td>1000.0</td>\n",
       "            </tr>\n",
       "        </table>\n",
       "        "
      ],
      "text/plain": [
       "<Reaction rxn08173_c0 at 0x176094a60>"
      ]
     },
     "execution_count": 19,
     "metadata": {},
     "output_type": "execute_result"
    }
   ],
   "source": [
    "model.reactions.rxn08173_c0"
   ]
  },
  {
   "cell_type": "code",
   "execution_count": 21,
   "metadata": {},
   "outputs": [
    {
     "data": {
      "text/html": [
       "\n",
       "        <table>\n",
       "            <tr>\n",
       "                <td><strong>Reaction identifier</strong></td><td>rxn05595_c0</td>\n",
       "            </tr><tr>\n",
       "                <td><strong>Name</strong></td><td>TRANS-RXN-3.ce [c0]</td>\n",
       "            </tr><tr>\n",
       "                <td><strong>Memory address</strong></td>\n",
       "                <td>0x175806860</td>\n",
       "            </tr><tr>\n",
       "                <td><strong>Stoichiometry</strong></td>\n",
       "                <td>\n",
       "                    <p style='text-align:right'>cpd00067_e0 + cpd00205_e0 <=> cpd00067_c0 + cpd00205_c0</p>\n",
       "                    <p style='text-align:right'>H+ [e0] + K+ [e0] <=> H+ [c0] + K+ [c0]</p>\n",
       "                </td>\n",
       "            </tr><tr>\n",
       "                <td><strong>GPR</strong></td><td>MIT1002_00016 or MIT1002_00017</td>\n",
       "            </tr><tr>\n",
       "                <td><strong>Lower bound</strong></td><td>-1000.0</td>\n",
       "            </tr><tr>\n",
       "                <td><strong>Upper bound</strong></td><td>1000.0</td>\n",
       "            </tr>\n",
       "        </table>\n",
       "        "
      ],
      "text/plain": [
       "<Reaction rxn05595_c0 at 0x175806860>"
      ]
     },
     "execution_count": 21,
     "metadata": {},
     "output_type": "execute_result"
    }
   ],
   "source": [
    "model.reactions.rxn05595_c0"
   ]
  },
  {
   "cell_type": "code",
   "execution_count": 22,
   "metadata": {},
   "outputs": [
    {
     "data": {
      "text/html": [
       "\n",
       "        <table>\n",
       "            <tr>\n",
       "                <td><strong>Reaction identifier</strong></td><td>rxn05206_c0</td>\n",
       "            </tr><tr>\n",
       "                <td><strong>Name</strong></td><td>TRANS-RXN-187.ce [c0]</td>\n",
       "            </tr><tr>\n",
       "                <td><strong>Memory address</strong></td>\n",
       "                <td>0x175f49060</td>\n",
       "            </tr><tr>\n",
       "                <td><strong>Stoichiometry</strong></td>\n",
       "                <td>\n",
       "                    <p style='text-align:right'>cpd00205_e0 <-- cpd00205_c0</p>\n",
       "                    <p style='text-align:right'>K+ [e0] <-- K+ [c0]</p>\n",
       "                </td>\n",
       "            </tr><tr>\n",
       "                <td><strong>GPR</strong></td><td>MIT1002_03754 and MIT1002_01599 and MIT1002_01761 and MIT1002_03343 and MIT1002_02492</td>\n",
       "            </tr><tr>\n",
       "                <td><strong>Lower bound</strong></td><td>-1000.0</td>\n",
       "            </tr><tr>\n",
       "                <td><strong>Upper bound</strong></td><td>0.0</td>\n",
       "            </tr>\n",
       "        </table>\n",
       "        "
      ],
      "text/plain": [
       "<Reaction rxn05206_c0 at 0x175f49060>"
      ]
     },
     "execution_count": 22,
     "metadata": {},
     "output_type": "execute_result"
    }
   ],
   "source": [
    "model.reactions.rxn05206_c0"
   ]
  }
 ],
 "metadata": {
  "kernelspec": {
   "display_name": "memote-test",
   "language": "python",
   "name": "python3"
  },
  "language_info": {
   "codemirror_mode": {
    "name": "ipython",
    "version": 3
   },
   "file_extension": ".py",
   "mimetype": "text/x-python",
   "name": "python",
   "nbconvert_exporter": "python",
   "pygments_lexer": "ipython3",
   "version": "3.10.4"
  },
  "orig_nbformat": 4
 },
 "nbformat": 4,
 "nbformat_minor": 2
}
