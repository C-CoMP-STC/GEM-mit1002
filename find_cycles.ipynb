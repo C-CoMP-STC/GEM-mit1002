{
 "cells": [
  {
   "cell_type": "code",
   "execution_count": 1,
   "metadata": {},
   "outputs": [
    {
     "name": "stderr",
     "output_type": "stream",
     "text": [
      "/Users/helenscott/opt/miniconda3/envs/med4-hot1a3/lib/python3.10/site-packages/scipy/__init__.py:155: UserWarning: A NumPy version >=1.18.5 and <1.26.0 is required for this version of SciPy (detected version 1.26.0\n",
      "  warnings.warn(f\"A NumPy version >={np_minversion} and <{np_maxversion}\"\n"
     ]
    }
   ],
   "source": [
    "import cobra"
   ]
  },
  {
   "cell_type": "code",
   "execution_count": 2,
   "metadata": {},
   "outputs": [
    {
     "name": "stderr",
     "output_type": "stream",
     "text": [
      "'' is not a valid SBML 'SId'.\n"
     ]
    }
   ],
   "source": [
    "model = cobra.io.read_sbml_model(\"model.xml\")"
   ]
  },
  {
   "cell_type": "code",
   "execution_count": 3,
   "metadata": {},
   "outputs": [],
   "source": [
    "# This is the list of reactions that are involved in cycles from MEMOTE\n",
    "cycle_rxns = [\"rxn00836_c0\",\"rxn00423_c0\",\"rxn03239_c0\",\"rxn01867_c0\",\"rxn00545_c0\",\"rxn05040_c0\",\"rxn01297_c0\",\"rxn08941_c0\",\"rxn05733_c0\",\"rxn02270_c0\",\"rxn00649_c0\",\"rxn01739_c0\",\"rxn07434_c0\",\"rxn05316_c0\",\"rxn00225_c0\",\"rxn03436_c0\",\"rxn00781_c0\",\"rxn00097_c0\",\"rxn02212_c0\",\"rxn00692_c0\",\"rxn02720_c0\",\"rxn03958_c0\",\"rxn03174_c0\",\"rxn01354_c0\",\"rxn08799_c0\",\"rxn03419_c0\",\"rxn00272_c0\",\"rxn06078_c0\",\"rxn05595_c0\",\"rxn03245_c0\",\"rxn00907_c0\",\"rxn02911_c0\",\"rxn09188_c0\",\"rxn00248_c0\",\"rxn00392_c0\",\"rxn00747_c0\",\"rxn06777_c0\",\"rxn03240_c0\",\"rxn00555_c0\",\"rxn03435_c0\",\"rxn03080_c0\",\"rxn00849_c0\",\"rxn00737_c0\",\"rxn10162_c0\",\"rxn00777_c0\",\"rxn01740_c0\",\"rxn00251_c0\",\"rxn00237_c0\",\"rxn03175_c0\",\"rxn00299_c0\",\"rxn00904_c0\",\"rxn00786_c0\",\"rxn01100_c0\",\"rxn00102_c0\",\"rxn01255_c0\",\"rxn01211_c0\",\"rxn03253_c0\",\"rxn02011_c0\",\"rxn00173_c0\",\"rxn09176_c0\",\"rxn01669_c0\",\"rxn03135_c0\",\"rxn00915_c0\",\"rxn01116_c0\",\"rxn07435_c0\",\"rxn01678_c0\",\"rxn02286_c0\",\"rxn00832_c0\",\"rxn01106_c0\",\"rxn00650_c0\",\"rxn03437_c0\",\"rxn01353_c0\",\"rxn00616_c0\",\"rxn02934_c0\",\"rxn00420_c0\",\"rxn02804_c0\",\"rxn00048_c0\",\"rxn00283_c0\",\"rxn00184_c0\",\"rxn00278_c0\",\"rxn01333_c0\",\"rxn00407_c0\",\"rxn03243_c0\",\"rxn02285_c0\",\"rxn00459_c0\",\"rxn00076_c0\",\"rxn05579_c0\",\"rxn02803_c0\",\"rxn00461_c0\",\"rxn00350_c0\",\"rxn03137_c0\",\"rxn09234_c0\",\"rxn02476_c0\",\"rxn04954_c0\",\"rxn00903_c0\",\"rxn02213_c0\",\"rxn10202_c0\",\"rxn00704_c0\",\"rxn01332_c0\",\"rxn00785_c0\",\"rxn00693_c0\",\"rxn03909_c0\",\"rxn01101_c0\",\"rxn00558_c0\",\"rxn00077_c0\",\"rxn03638_c0\",\"rxn01068_c0\",\"rxn03242_c0\",\"rxn00851_c0\",\"rxn01200_c0\",\"rxn01241_c0\",\"rxn02473_c0\",\"rxn00122_c0\",\"rxn03241_c0\",\"rxn00085_c0\",\"rxn02008_c0\",\"rxn01225_c0\",\"rxn00946_c0\",\"rxn05114_c0\",\"rxn03164_c0\",\"rxn00929_c0\",\"rxn08942_c0\",\"rxn10770_c0\",\"rxn00504_c0\",\"rxn01485_c0\",\"rxn05206_c0\",\"rxn00239_c0\",\"rxn00302_c0\",\"rxn00623_c0\",\"rxn08043_c0\",\"rxn08131_c0\",\"rxn01137_c0\",\"rxn06510_c0\",\"rxn00274_c0\",\"rxn06335_c0\",\"rxn02914_c0\",\"rxn09232_c0\",\"rxn06075_c0\",\"rxn05289_c0\",\"rxn00117_c0\",\"rxn00330_c0\",\"rxn00293_c0\",\"rxn00154_c0\",\"rxn08213_c0\",\"rxn08173_c0\",\"rxn00064_c0\",\"rxn09260_c0\",\"rxn09330_c0\",\"EX_cpd00268_e0\",\"EX_cpd00098_e0\",\"EX_cpd00246_e0\",\"EX_cpd00214_e0\"]"
   ]
  },
  {
   "cell_type": "code",
   "execution_count": 7,
   "metadata": {},
   "outputs": [],
   "source": [
    "# Find all reactions that involve PRPP (what rxn00836 produces)\n",
    "metabolite_id = \"cpd00103_c0\"\n",
    "# Check if the metabolite exists in the model\n",
    "if metabolite_id in model.metabolites:\n",
    "    metabolite = model.metabolites.get_by_id(metabolite_id)\n",
    "else:\n",
    "    raise ValueError(f\"Metabolite {metabolite_id} not found in the model.\")\n",
    "\n",
    "# Find all reactions containing the metabolite\n",
    "reactions_with_metabolite = [reaction.id for reaction in model.reactions if metabolite in reaction.metabolites if reaction.id in cycle_rxns]\n"
   ]
  },
  {
   "cell_type": "code",
   "execution_count": 8,
   "metadata": {},
   "outputs": [
    {
     "data": {
      "text/plain": [
       "['rxn00836_c0', 'rxn00915_c0']"
      ]
     },
     "execution_count": 8,
     "metadata": {},
     "output_type": "execute_result"
    }
   ],
   "source": [
    "reactions_with_metabolite"
   ]
  },
  {
   "cell_type": "code",
   "execution_count": 9,
   "metadata": {},
   "outputs": [
    {
     "data": {
      "text/html": [
       "\n",
       "        <table>\n",
       "            <tr>\n",
       "                <td><strong>Reaction identifier</strong></td><td>rxn00836_c0</td>\n",
       "            </tr><tr>\n",
       "                <td><strong>Name</strong></td><td>IMP:diphosphate phospho-D-ribosyltransferase [c0]</td>\n",
       "            </tr><tr>\n",
       "                <td><strong>Memory address</strong></td>\n",
       "                <td>0x17da37b80</td>\n",
       "            </tr><tr>\n",
       "                <td><strong>Stoichiometry</strong></td>\n",
       "                <td>\n",
       "                    <p style='text-align:right'>cpd00012_c0 + cpd00067_c0 + cpd00114_c0 <-- cpd00103_c0 + cpd00226_c0</p>\n",
       "                    <p style='text-align:right'>PPi [c0] + H+ [c0] + IMP [c0] <-- PRPP [c0] + HYXN [c0]</p>\n",
       "                </td>\n",
       "            </tr><tr>\n",
       "                <td><strong>GPR</strong></td><td>MIT1002_01649</td>\n",
       "            </tr><tr>\n",
       "                <td><strong>Lower bound</strong></td><td>-1000.0</td>\n",
       "            </tr><tr>\n",
       "                <td><strong>Upper bound</strong></td><td>0.0</td>\n",
       "            </tr>\n",
       "        </table>\n",
       "        "
      ],
      "text/plain": [
       "<Reaction rxn00836_c0 at 0x17da37b80>"
      ]
     },
     "execution_count": 9,
     "metadata": {},
     "output_type": "execute_result"
    }
   ],
   "source": [
    "model.reactions.rxn00836_c0"
   ]
  },
  {
   "cell_type": "code",
   "execution_count": 11,
   "metadata": {},
   "outputs": [
    {
     "data": {
      "text/html": [
       "\n",
       "        <table>\n",
       "            <tr>\n",
       "                <td><strong>Reaction identifier</strong></td><td>rxn00915_c0</td>\n",
       "            </tr><tr>\n",
       "                <td><strong>Name</strong></td><td>GMP:diphosphate 5-phospho-alpha-D-ribosyltransferase [c0]</td>\n",
       "            </tr><tr>\n",
       "                <td><strong>Memory address</strong></td>\n",
       "                <td>0x17db3d2d0</td>\n",
       "            </tr><tr>\n",
       "                <td><strong>Stoichiometry</strong></td>\n",
       "                <td>\n",
       "                    <p style='text-align:right'>cpd00012_c0 + cpd00067_c0 + cpd00126_c0 <-- cpd00103_c0 + cpd00207_c0</p>\n",
       "                    <p style='text-align:right'>PPi [c0] + H+ [c0] + GMP [c0] <-- PRPP [c0] + Guanine [c0]</p>\n",
       "                </td>\n",
       "            </tr><tr>\n",
       "                <td><strong>GPR</strong></td><td>MIT1002_01649</td>\n",
       "            </tr><tr>\n",
       "                <td><strong>Lower bound</strong></td><td>-1000.0</td>\n",
       "            </tr><tr>\n",
       "                <td><strong>Upper bound</strong></td><td>0.0</td>\n",
       "            </tr>\n",
       "        </table>\n",
       "        "
      ],
      "text/plain": [
       "<Reaction rxn00915_c0 at 0x17db3d2d0>"
      ]
     },
     "execution_count": 11,
     "metadata": {},
     "output_type": "execute_result"
    }
   ],
   "source": [
    "model.reactions.rxn00915_c0"
   ]
  },
  {
   "cell_type": "code",
   "execution_count": 12,
   "metadata": {},
   "outputs": [
    {
     "data": {
      "text/plain": [
       "['rxn00836_c0', 'rxn00832_c0']"
      ]
     },
     "execution_count": 12,
     "metadata": {},
     "output_type": "execute_result"
    }
   ],
   "source": [
    "# Find all reactions that involve IMP (what rxn00836 uses)\n",
    "metabolite_id = \"cpd00114_c0\"\n",
    "# Check if the metabolite exists in the model\n",
    "if metabolite_id in model.metabolites:\n",
    "    metabolite = model.metabolites.get_by_id(metabolite_id)\n",
    "else:\n",
    "    raise ValueError(f\"Metabolite {metabolite_id} not found in the model.\")\n",
    "\n",
    "# Find all reactions containing the metabolite\n",
    "reactions_with_metabolite = [reaction.id for reaction in model.reactions if metabolite in reaction.metabolites if reaction.id in cycle_rxns]\n",
    "reactions_with_metabolite"
   ]
  },
  {
   "cell_type": "code",
   "execution_count": 13,
   "metadata": {},
   "outputs": [
    {
     "data": {
      "text/html": [
       "\n",
       "        <table>\n",
       "            <tr>\n",
       "                <td><strong>Reaction identifier</strong></td><td>rxn00832_c0</td>\n",
       "            </tr><tr>\n",
       "                <td><strong>Name</strong></td><td>IMP 1,2-hydrolase (decyclizing) [c0]</td>\n",
       "            </tr><tr>\n",
       "                <td><strong>Memory address</strong></td>\n",
       "                <td>0x17deb6470</td>\n",
       "            </tr><tr>\n",
       "                <td><strong>Stoichiometry</strong></td>\n",
       "                <td>\n",
       "                    <p style='text-align:right'>cpd00001_c0 + cpd00114_c0 <=> cpd02884_c0</p>\n",
       "                    <p style='text-align:right'>H2O [c0] + IMP [c0] <=> FAICAR [c0]</p>\n",
       "                </td>\n",
       "            </tr><tr>\n",
       "                <td><strong>GPR</strong></td><td>MIT1002_03959</td>\n",
       "            </tr><tr>\n",
       "                <td><strong>Lower bound</strong></td><td>-1000.0</td>\n",
       "            </tr><tr>\n",
       "                <td><strong>Upper bound</strong></td><td>1000.0</td>\n",
       "            </tr>\n",
       "        </table>\n",
       "        "
      ],
      "text/plain": [
       "<Reaction rxn00832_c0 at 0x17deb6470>"
      ]
     },
     "execution_count": 13,
     "metadata": {},
     "output_type": "execute_result"
    }
   ],
   "source": [
    "model.reactions.rxn00832_c0"
   ]
  },
  {
   "cell_type": "code",
   "execution_count": 14,
   "metadata": {},
   "outputs": [
    {
     "data": {
      "text/plain": [
       "['rxn00832_c0', 'rxn03137_c0']"
      ]
     },
     "execution_count": 14,
     "metadata": {},
     "output_type": "execute_result"
    }
   ],
   "source": [
    "# Find all reactions that involve IMP (what rxn00836 uses)\n",
    "metabolite_id = \"cpd02884_c0\"\n",
    "# Check if the metabolite exists in the model\n",
    "if metabolite_id in model.metabolites:\n",
    "    metabolite = model.metabolites.get_by_id(metabolite_id)\n",
    "else:\n",
    "    raise ValueError(f\"Metabolite {metabolite_id} not found in the model.\")\n",
    "\n",
    "# Find all reactions containing the metabolite\n",
    "reactions_with_metabolite = [reaction.id for reaction in model.reactions if metabolite in reaction.metabolites if reaction.id in cycle_rxns]\n",
    "reactions_with_metabolite"
   ]
  },
  {
   "cell_type": "code",
   "execution_count": 15,
   "metadata": {},
   "outputs": [
    {
     "data": {
      "text/html": [
       "\n",
       "        <table>\n",
       "            <tr>\n",
       "                <td><strong>Reaction identifier</strong></td><td>rxn03137_c0</td>\n",
       "            </tr><tr>\n",
       "                <td><strong>Name</strong></td><td>10-Formyltetrahydrofolate:5'-phosphoribosyl-5-amino-4-imidazolecarboxamide formyltransferase [c0]</td>\n",
       "            </tr><tr>\n",
       "                <td><strong>Memory address</strong></td>\n",
       "                <td>0x17e1994e0</td>\n",
       "            </tr><tr>\n",
       "                <td><strong>Stoichiometry</strong></td>\n",
       "                <td>\n",
       "                    <p style='text-align:right'>cpd00201_c0 + cpd02851_c0 <=> cpd00087_c0 + cpd02884_c0</p>\n",
       "                    <p style='text-align:right'>10-Formyltetrahydrofolate [c0] + AICAR [c0] <=> Tetrahydrofolate [c0] + FAICAR [c0]</p>\n",
       "                </td>\n",
       "            </tr><tr>\n",
       "                <td><strong>GPR</strong></td><td>MIT1002_03959</td>\n",
       "            </tr><tr>\n",
       "                <td><strong>Lower bound</strong></td><td>-1000.0</td>\n",
       "            </tr><tr>\n",
       "                <td><strong>Upper bound</strong></td><td>1000.0</td>\n",
       "            </tr>\n",
       "        </table>\n",
       "        "
      ],
      "text/plain": [
       "<Reaction rxn03137_c0 at 0x17e1994e0>"
      ]
     },
     "execution_count": 15,
     "metadata": {},
     "output_type": "execute_result"
    }
   ],
   "source": [
    "model.reactions.rxn03137_c0"
   ]
  },
  {
   "cell_type": "code",
   "execution_count": 17,
   "metadata": {},
   "outputs": [
    {
     "data": {
      "text/plain": [
       "['rxn03135_c0', 'rxn03137_c0']"
      ]
     },
     "execution_count": 17,
     "metadata": {},
     "output_type": "execute_result"
    }
   ],
   "source": [
    "# Find all reactions that involve IMP (what rxn00836 uses)\n",
    "metabolite_id = \"cpd02851_c0\"\n",
    "# Check if the metabolite exists in the model\n",
    "if metabolite_id in model.metabolites:\n",
    "    metabolite = model.metabolites.get_by_id(metabolite_id)\n",
    "else:\n",
    "    raise ValueError(f\"Metabolite {metabolite_id} not found in the model.\")\n",
    "\n",
    "# Find all reactions containing the metabolite\n",
    "reactions_with_metabolite = [reaction.id for reaction in model.reactions if metabolite in reaction.metabolites if reaction.id in cycle_rxns]\n",
    "reactions_with_metabolite"
   ]
  },
  {
   "cell_type": "code",
   "execution_count": 18,
   "metadata": {},
   "outputs": [
    {
     "data": {
      "text/html": [
       "\n",
       "        <table>\n",
       "            <tr>\n",
       "                <td><strong>Reaction identifier</strong></td><td>rxn03135_c0</td>\n",
       "            </tr><tr>\n",
       "                <td><strong>Name</strong></td><td>R04558 [c0]</td>\n",
       "            </tr><tr>\n",
       "                <td><strong>Memory address</strong></td>\n",
       "                <td>0x17daf3130</td>\n",
       "            </tr><tr>\n",
       "                <td><strong>Stoichiometry</strong></td>\n",
       "                <td>\n",
       "                    <p style='text-align:right'>cpd00023_c0 + 2.0 cpd00067_c0 + cpd02843_c0 + cpd02851_c0 <-- cpd00053_c0 + cpd02991_c0</p>\n",
       "                    <p style='text-align:right'>L-Glutamate [c0] + 2.0 H+ [c0] + D-erythro-imidazol-glycerol-phosphate [c0] + AICAR [c0] <-- L-Glutamine [c0] + phosphoribulosylformimino-AICAR-phosphate [c0]</p>\n",
       "                </td>\n",
       "            </tr><tr>\n",
       "                <td><strong>GPR</strong></td><td>MIT1002_02636 and MIT1002_02638 and MIT1002_01061</td>\n",
       "            </tr><tr>\n",
       "                <td><strong>Lower bound</strong></td><td>-1000.0</td>\n",
       "            </tr><tr>\n",
       "                <td><strong>Upper bound</strong></td><td>0.0</td>\n",
       "            </tr>\n",
       "        </table>\n",
       "        "
      ],
      "text/plain": [
       "<Reaction rxn03135_c0 at 0x17daf3130>"
      ]
     },
     "execution_count": 18,
     "metadata": {},
     "output_type": "execute_result"
    }
   ],
   "source": [
    "model.reactions.rxn03135_c0"
   ]
  },
  {
   "cell_type": "code",
   "execution_count": 22,
   "metadata": {},
   "outputs": [
    {
     "data": {
      "text/plain": [
       "array([[-1.,  0.,  0., ...,  0.,  0.,  0.],\n",
       "       [-1.,  0.,  0., ...,  0.,  0.,  0.],\n",
       "       [ 1.,  0.,  0., ...,  0.,  0.,  0.],\n",
       "       ...,\n",
       "       [ 0.,  0.,  0., ...,  0.,  0.,  0.],\n",
       "       [ 0.,  0.,  0., ..., -1.,  0.,  0.],\n",
       "       [ 0.,  0.,  0., ...,  0.,  0.,  0.]])"
      ]
     },
     "execution_count": 22,
     "metadata": {},
     "output_type": "execute_result"
    }
   ],
   "source": [
    "s_matrix = cobra.util.create_stoichiometric_matrix(model)\n",
    "s_matrix"
   ]
  },
  {
   "cell_type": "code",
   "execution_count": null,
   "metadata": {},
   "outputs": [],
   "source": []
  },
  {
   "cell_type": "code",
   "execution_count": 24,
   "metadata": {},
   "outputs": [
    {
     "name": "stdout",
     "output_type": "stream",
     "text": [
      "rxn00836_c0 | (-1000.0, 0.0)\n",
      "rxn00423_c0 | (0.0, 1000.0)\n",
      "rxn03239_c0 | (-1000.0, 1000.0)\n",
      "rxn01867_c0 | (0.0, 1000.0)\n",
      "rxn00545_c0 | (0.0, 1000.0)\n",
      "rxn05040_c0 | (0.0, 1000.0)\n",
      "rxn01297_c0 | (-1000.0, 1000.0)\n",
      "rxn08941_c0 | (-1000.0, 1000.0)\n",
      "rxn05733_c0 | (0.0, 1000.0)\n",
      "rxn02270_c0 | (-1000.0, 0.0)\n",
      "rxn00649_c0 | (0.0, 1000.0)\n",
      "rxn01739_c0 | (0.0, 1000.0)\n",
      "rxn07434_c0 | (0.0, 1000.0)\n",
      "rxn05316_c0 | (-1000.0, 1000.0)\n",
      "rxn00225_c0 | (-1000.0, 1000.0)\n",
      "rxn03436_c0 | (-1000.0, 1000.0)\n",
      "rxn00781_c0 | (-1000.0, 1000.0)\n",
      "rxn00097_c0 | (-1000.0, 1000.0)\n",
      "rxn02212_c0 | (0.0, 1000.0)\n",
      "rxn00692_c0 | (-1000.0, 1000.0)\n",
      "rxn02720_c0 | (-1000.0, 1000.0)\n",
      "rxn03958_c0 | (-1000.0, 1000.0)\n",
      "rxn03174_c0 | (-1000.0, 0.0)\n",
      "rxn01354_c0 | (-1000.0, 1000.0)\n",
      "rxn08799_c0 | (-1000.0, 1000.0)\n",
      "rxn03419_c0 | (-1000.0, 1000.0)\n",
      "rxn00272_c0 | (-1000.0, 1000.0)\n",
      "rxn06078_c0 | (0.0, 1000.0)\n",
      "rxn05595_c0 | (-1000.0, 1000.0)\n",
      "rxn03245_c0 | (-1000.0, 1000.0)\n",
      "rxn00907_c0 | (-1000.0, 1000.0)\n",
      "rxn02911_c0 | (-1000.0, 1000.0)\n",
      "rxn09188_c0 | (-1000.0, 1000.0)\n",
      "rxn00248_c0 | (-1000.0, 1000.0)\n",
      "rxn00392_c0 | (-1000.0, 1000.0)\n",
      "rxn00747_c0 | (-1000.0, 1000.0)\n",
      "rxn06777_c0 | (-1000.0, 1000.0)\n",
      "rxn03240_c0 | (-1000.0, 1000.0)\n",
      "rxn00555_c0 | (-1000.0, 1000.0)\n",
      "rxn03435_c0 | (-1000.0, 1000.0)\n",
      "rxn03080_c0 | (0.0, 1000.0)\n",
      "rxn00849_c0 | (-1000.0, 1000.0)\n",
      "rxn00737_c0 | (0.0, 1000.0)\n",
      "rxn10162_c0 | (-1000.0, 1000.0)\n",
      "rxn00777_c0 | (-1000.0, 1000.0)\n",
      "rxn01740_c0 | (-1000.0, 1000.0)\n",
      "rxn00251_c0 | (-1000.0, 1000.0)\n",
      "rxn00237_c0 | (-1000.0, 1000.0)\n",
      "rxn03175_c0 | (-1000.0, 1000.0)\n",
      "rxn00299_c0 | (0.0, 1000.0)\n",
      "rxn00904_c0 | (-1000.0, 1000.0)\n",
      "rxn00786_c0 | (-1000.0, 1000.0)\n",
      "rxn01100_c0 | (-1000.0, 1000.0)\n",
      "rxn00102_c0 | (-1000.0, 1000.0)\n",
      "rxn01255_c0 | (0.0, 1000.0)\n",
      "rxn01211_c0 | (-1000.0, 1000.0)\n",
      "rxn03253_c0 | (-1000.0, 1000.0)\n",
      "rxn02011_c0 | (0.0, 1000.0)\n",
      "rxn00173_c0 | (-1000.0, 1000.0)\n",
      "rxn09176_c0 | (-1000.0, 1000.0)\n",
      "rxn01669_c0 | (-1000.0, 1000.0)\n",
      "rxn03135_c0 | (-1000.0, 0.0)\n",
      "rxn00915_c0 | (-1000.0, 0.0)\n",
      "rxn01116_c0 | (-1000.0, 1000.0)\n",
      "rxn07435_c0 | (-1000.0, 1000.0)\n",
      "rxn01678_c0 | (-1000.0, 1000.0)\n",
      "rxn02286_c0 | (0.0, 1000.0)\n",
      "rxn00832_c0 | (-1000.0, 1000.0)\n",
      "rxn01106_c0 | (-1000.0, 1000.0)\n",
      "rxn00650_c0 | (-1000.0, 1000.0)\n",
      "rxn03437_c0 | (0.0, 1000.0)\n",
      "rxn01353_c0 | (-1000.0, 1000.0)\n",
      "rxn00616_c0 | (-1000.0, 1000.0)\n",
      "rxn02934_c0 | (-1000.0, 1000.0)\n",
      "rxn00420_c0 | (0.0, 1000.0)\n",
      "rxn02804_c0 | (-1000.0, 0.0)\n",
      "rxn00048_c0 | (0.0, 1000.0)\n",
      "rxn00283_c0 | (-1000.0, 1000.0)\n",
      "rxn00184_c0 | (-1000.0, 1000.0)\n",
      "rxn00278_c0 | (-1000.0, 1000.0)\n",
      "rxn01333_c0 | (-1000.0, 1000.0)\n",
      "rxn00407_c0 | (0.0, 1000.0)\n",
      "rxn03243_c0 | (-1000.0, 0.0)\n",
      "rxn02285_c0 | (-1000.0, 1000.0)\n",
      "rxn00459_c0 | (-1000.0, 1000.0)\n",
      "rxn00076_c0 | (0.0, 1000.0)\n",
      "rxn05579_c0 | (-1000.0, 1000.0)\n",
      "rxn02803_c0 | (-1000.0, 1000.0)\n",
      "rxn00461_c0 | (0.0, 1000.0)\n",
      "rxn00350_c0 | (-1000.0, 1000.0)\n",
      "rxn03137_c0 | (-1000.0, 1000.0)\n",
      "rxn09234_c0 | (-1000.0, 1000.0)\n",
      "rxn02476_c0 | (-1000.0, 1000.0)\n",
      "rxn04954_c0 | (-1000.0, 1000.0)\n",
      "rxn00903_c0 | (-1000.0, 1000.0)\n",
      "rxn02213_c0 | (0.0, 1000.0)\n",
      "rxn10202_c0 | (0.0, 1000.0)\n",
      "rxn00704_c0 | (-1000.0, 1000.0)\n",
      "rxn01332_c0 | (0.0, 1000.0)\n",
      "rxn00785_c0 | (-1000.0, 1000.0)\n",
      "rxn00693_c0 | (-1000.0, 1000.0)\n",
      "rxn03909_c0 | (0.0, 1000.0)\n",
      "rxn01101_c0 | (-1000.0, 1000.0)\n",
      "rxn00558_c0 | (-1000.0, 1000.0)\n",
      "rxn00077_c0 | (-1000.0, 1000.0)\n",
      "rxn03638_c0 | (0.0, 1000.0)\n",
      "rxn01068_c0 | (-1000.0, 1000.0)\n",
      "rxn03242_c0 | (-1000.0, 1000.0)\n",
      "rxn00851_c0 | (0.0, 1000.0)\n",
      "rxn01200_c0 | (-1000.0, 1000.0)\n",
      "rxn01241_c0 | (-1000.0, 1000.0)\n",
      "rxn02473_c0 | (0.0, 1000.0)\n",
      "rxn00122_c0 | (0.0, 1000.0)\n",
      "rxn03241_c0 | (-1000.0, 1000.0)\n",
      "rxn00085_c0 | (-1000.0, 1000.0)\n",
      "rxn02008_c0 | (0.0, 1000.0)\n",
      "rxn01225_c0 | (0.0, 1000.0)\n",
      "rxn00946_c0 | (-1000.0, 1000.0)\n",
      "rxn05114_c0 | (0.0, 1000.0)\n",
      "rxn03164_c0 | (0.0, 1000.0)\n",
      "rxn00929_c0 | (-1000.0, 1000.0)\n",
      "rxn08942_c0 | (-1000.0, 1000.0)\n",
      "rxn10770_c0 | (-1000.0, 1000.0)\n",
      "rxn00504_c0 | (-1000.0, 1000.0)\n",
      "rxn01485_c0 | (-1000.0, 1000.0)\n",
      "rxn05206_c0 | (-1000.0, 0.0)\n",
      "rxn00239_c0 | (-1000.0, 1000.0)\n",
      "rxn00302_c0 | (0.0, 1000.0)\n",
      "rxn00623_c0 | (-1000.0, 0.0)\n",
      "rxn08043_c0 | (0.0, 1000.0)\n",
      "rxn08131_c0 | (-1000.0, 1000.0)\n",
      "rxn01137_c0 | (0.0, 1000.0)\n",
      "rxn06510_c0 | (-1000.0, 0.0)\n",
      "rxn00274_c0 | (0.0, 1000.0)\n",
      "rxn06335_c0 | (-1000.0, 1000.0)\n",
      "rxn02914_c0 | (-1000.0, 1000.0)\n",
      "rxn09232_c0 | (-1000.0, 1000.0)\n",
      "rxn06075_c0 | (-1000.0, 0.0)\n",
      "rxn05289_c0 | (-1000.0, 1000.0)\n",
      "rxn00117_c0 | (-1000.0, 1000.0)\n",
      "rxn00330_c0 | (-1000.0, 0.0)\n",
      "rxn00293_c0 | (0.0, 1000.0)\n",
      "rxn00154_c0 | (-1000.0, 1000.0)\n",
      "rxn08213_c0 | (-1000.0, 1000.0)\n",
      "rxn08173_c0 | (-1000.0, 1000.0)\n",
      "rxn00064_c0 | (0.0, 1000.0)\n",
      "rxn09260_c0 | (0.0, 1000.0)\n",
      "rxn09330_c0 | (-1000.0, 1000.0)\n",
      "EX_cpd00268_e0 | (-1000.0, 1000.0)\n",
      "EX_cpd00098_e0 | (-1000.0, 1000.0)\n",
      "EX_cpd00246_e0 | (-1000.0, 1000.0)\n",
      "EX_cpd00214_e0 | (-1000.0, 1000.0)\n"
     ]
    }
   ],
   "source": [
    "# With these reactions, am I functionally dealing with a directed or undirected graph?\n",
    "# Are the bounds for the reactions all set as reversible?\n",
    "\n",
    "for reaction in cycle_rxns:\n",
    "    print(reaction + \" | \" + str(model.reactions.get_by_id(reaction).bounds))"
   ]
  },
  {
   "cell_type": "code",
   "execution_count": 25,
   "metadata": {},
   "outputs": [
    {
     "name": "stdout",
     "output_type": "stream",
     "text": [
      "Reversible: 99\n",
      "Irreversible: 53\n"
     ]
    }
   ],
   "source": [
    "n_rev = 0\n",
    "n_irrev = 0\n",
    "\n",
    "for reaction in cycle_rxns:\n",
    "    if model.reactions.get_by_id(reaction).reversibility:\n",
    "        n_rev += 1\n",
    "    else:\n",
    "        n_irrev += 1\n",
    "\n",
    "print(\"Reversible: \" + str(n_rev))\n",
    "print(\"Irreversible: \" + str(n_irrev))"
   ]
  },
  {
   "cell_type": "code",
   "execution_count": 29,
   "metadata": {},
   "outputs": [],
   "source": [
    "# Define function that gives all of the reactions one metabolite away from the\n",
    "# input reaction\n",
    "def find_neighbor_rxns(rxn, cycle_rxns):\n",
    "    neighbor_rxns = []\n",
    "    for met in rxn.metabolites:\n",
    "        for neighbor_rxn in met.reactions:\n",
    "            if neighbor_rxn.id not in neighbor_rxns and neighbor_rxn.id in cycle_rxns:\n",
    "                neighbor_rxns.append(neighbor_rxn)\n",
    "    return neighbor_rxns"
   ]
  },
  {
   "cell_type": "code",
   "execution_count": 31,
   "metadata": {},
   "outputs": [
    {
     "data": {
      "text/plain": [
       "[<Reaction rxn00915_c0 at 0x17db3d2d0>,\n",
       " <Reaction rxn00293_c0 at 0x17e4bf700>,\n",
       " <Reaction rxn00122_c0 at 0x17e2e7850>,\n",
       " <Reaction rxn09176_c0 at 0x17daaba60>,\n",
       " <Reaction rxn00836_c0 at 0x17da37b80>,\n",
       " <Reaction rxn05733_c0 at 0x17db88ac0>,\n",
       " <Reaction rxn00504_c0 at 0x17e3f0dc0>,\n",
       " <Reaction rxn00781_c0 at 0x17dbf8fa0>,\n",
       " <Reaction rxn02285_c0 at 0x17e119030>,\n",
       " <Reaction rxn00392_c0 at 0x17dd41090>,\n",
       " <Reaction rxn03958_c0 at 0x17dc492d0>,\n",
       " <Reaction rxn01867_c0 at 0x17daa9a80>,\n",
       " <Reaction rxn06777_c0 at 0x17dd41c00>,\n",
       " <Reaction rxn02270_c0 at 0x17db89d80>,\n",
       " <Reaction rxn00239_c0 at 0x17e3f1ea0>,\n",
       " <Reaction rxn01211_c0 at 0x17de89ff0>,\n",
       " <Reaction rxn00299_c0 at 0x17de03010>,\n",
       " <Reaction rxn03135_c0 at 0x17daf3130>,\n",
       " <Reaction rxn05040_c0 at 0x17daf37c0>,\n",
       " <Reaction rxn00623_c0 at 0x17e3f37f0>,\n",
       " <Reaction rxn00248_c0 at 0x17dcfb850>,\n",
       " <Reaction rxn01354_c0 at 0x17dc4ba00>,\n",
       " <Reaction rxn02720_c0 at 0x17dc23b80>,\n",
       " <Reaction rxn00097_c0 at 0x17dbfbd60>,\n",
       " <Reaction rxn08799_c0 at 0x17dcbc370>,\n",
       " <Reaction rxn08173_c0 at 0x17e53c9a0>,\n",
       " <Reaction rxn08043_c0 at 0x17e434a30>,\n",
       " <Reaction rxn00076_c0 at 0x17e15cb80>,\n",
       " <Reaction rxn03080_c0 at 0x17dd7ccd0>,\n",
       " <Reaction rxn00184_c0 at 0x17e05ce50>,\n",
       " <Reaction rxn03435_c0 at 0x17dd7ce80>,\n",
       " <Reaction rxn05114_c0 at 0x17e3aceb0>,\n",
       " <Reaction rxn05289_c0 at 0x17e4bd060>,\n",
       " <Reaction rxn01241_c0 at 0x17e2e50f0>,\n",
       " <Reaction rxn01101_c0 at 0x17e25d150>,\n",
       " <Reaction rxn00077_c0 at 0x17e2a5150>,\n",
       " <Reaction rxn01739_c0 at 0x17dbad1e0>,\n",
       " <Reaction rxn08131_c0 at 0x17e435210>,\n",
       " <Reaction rxn03909_c0 at 0x17e25d270>,\n",
       " <Reaction rxn04954_c0 at 0x17e1dd2a0>,\n",
       " <Reaction rxn00915_c0 at 0x17db3d2d0>,\n",
       " <Reaction rxn03164_c0 at 0x17e3ad330>,\n",
       " <Reaction rxn03419_c0 at 0x17dcbd360>,\n",
       " <Reaction rxn00064_c0 at 0x17e6153c0>,\n",
       " <Reaction rxn00929_c0 at 0x17e3ad3f0>,\n",
       " <Reaction rxn00278_c0 at 0x17e08d420>,\n",
       " <Reaction rxn03175_c0 at 0x17ddbd930>,\n",
       " <Reaction rxn00330_c0 at 0x17e4bd930>,\n",
       " <Reaction rxn03638_c0 at 0x17e2a5960>,\n",
       " <Reaction rxn02008_c0 at 0x17e36d990>,\n",
       " <Reaction rxn01297_c0 at 0x17db3dcf0>,\n",
       " <Reaction rxn07434_c0 at 0x17dbade10>,\n",
       " <Reaction rxn10202_c0 at 0x17e21e050>,\n",
       " <Reaction rxn02286_c0 at 0x17deb6080>,\n",
       " <Reaction rxn05579_c0 at 0x17e15e140>,\n",
       " <Reaction rxn06078_c0 at 0x17dcbe290>,\n",
       " <Reaction rxn01225_c0 at 0x17e36e290>,\n",
       " <Reaction rxn01068_c0 at 0x17e2a6560>,\n",
       " <Reaction rxn01137_c0 at 0x17e436620>,\n",
       " <Reaction rxn00545_c0 at 0x17dac67d0>,\n",
       " <Reaction rxn05595_c0 at 0x17dcbe7d0>,\n",
       " <Reaction rxn10162_c0 at 0x17dd7e830>,\n",
       " <Reaction rxn00048_c0 at 0x17e036ad0>,\n",
       " <Reaction rxn02803_c0 at 0x17e15ec50>,\n",
       " <Reaction rxn08213_c0 at 0x17e507b80>,\n",
       " <Reaction rxn00407_c0 at 0x17e08f250>,\n",
       " <Reaction rxn03242_c0 at 0x17e2a72b0>,\n",
       " <Reaction rxn02011_c0 at 0x17da372e0>,\n",
       " <Reaction rxn00946_c0 at 0x17e36f2e0>,\n",
       " <Reaction rxn01740_c0 at 0x17dd7f370>,\n",
       " <Reaction rxn00851_c0 at 0x17e2a7520>,\n",
       " <Reaction rxn00616_c0 at 0x17dfc75b0>,\n",
       " <Reaction rxn00085_c0 at 0x17e32f640>,\n",
       " <Reaction rxn03239_c0 at 0x17da7f7c0>,\n",
       " <Reaction rxn05316_c0 at 0x17da379a0>,\n",
       " <Reaction rxn00102_c0 at 0x17de47b50>,\n",
       " <Reaction rxn00836_c0 at 0x17da37b80>,\n",
       " <Reaction rxn03253_c0 at 0x17da7fd00>,\n",
       " <Reaction rxn10770_c0 at 0x17e3afd30>,\n",
       " <Reaction rxn00251_c0 at 0x17dd7fd60>,\n",
       " <Reaction rxn00832_c0 at 0x17deb6470>,\n",
       " <Reaction rxn00836_c0 at 0x17da37b80>,\n",
       " <Reaction rxn00915_c0 at 0x17db3d2d0>,\n",
       " <Reaction rxn00836_c0 at 0x17da37b80>,\n",
       " <Reaction rxn00836_c0 at 0x17da37b80>,\n",
       " <Reaction rxn01297_c0 at 0x17db3dcf0>]"
      ]
     },
     "execution_count": 31,
     "metadata": {},
     "output_type": "execute_result"
    }
   ],
   "source": [
    "find_neighbor_rxns(model.reactions.rxn00836_c0, cycle_rxns)"
   ]
  },
  {
   "cell_type": "code",
   "execution_count": 32,
   "metadata": {},
   "outputs": [
    {
     "data": {
      "text/html": [
       "\n",
       "        <table>\n",
       "            <tr>\n",
       "                <td><strong>Reaction identifier</strong></td><td>rxn00293_c0</td>\n",
       "            </tr><tr>\n",
       "                <td><strong>Name</strong></td><td>UTP:N-acetyl-alpha-D-glucosamine-1-phosphate uridylyltransferase [c0]</td>\n",
       "            </tr><tr>\n",
       "                <td><strong>Memory address</strong></td>\n",
       "                <td>0x17e4bf700</td>\n",
       "            </tr><tr>\n",
       "                <td><strong>Stoichiometry</strong></td>\n",
       "                <td>\n",
       "                    <p style='text-align:right'>cpd00062_c0 + cpd02611_c0 --> cpd00012_c0 + cpd00037_c0</p>\n",
       "                    <p style='text-align:right'>UTP [c0] + N-Acetyl-D-glucosamine1-phosphate [c0] --> PPi [c0] + UDP-N-acetylglucosamine [c0]</p>\n",
       "                </td>\n",
       "            </tr><tr>\n",
       "                <td><strong>GPR</strong></td><td>MIT1002_03899</td>\n",
       "            </tr><tr>\n",
       "                <td><strong>Lower bound</strong></td><td>0.0</td>\n",
       "            </tr><tr>\n",
       "                <td><strong>Upper bound</strong></td><td>1000.0</td>\n",
       "            </tr>\n",
       "        </table>\n",
       "        "
      ],
      "text/plain": [
       "<Reaction rxn00293_c0 at 0x17e4bf700>"
      ]
     },
     "execution_count": 32,
     "metadata": {},
     "output_type": "execute_result"
    }
   ],
   "source": [
    "model.reactions.rxn00293_c0"
   ]
  },
  {
   "cell_type": "code",
   "execution_count": 37,
   "metadata": {},
   "outputs": [],
   "source": [
    "nodes_visited = []\n",
    "new_nodes = [model.reactions.rxn00836_c0]\n",
    "for node in new_nodes:\n",
    "    if node in nodes_visited:\n",
    "        print(\"Cycle found\")\n",
    "        print(nodes_visited)\n",
    "        break\n",
    "    nodes_visited = nodes_visited + new_nodes\n",
    "    new_nodes = find_neighbor_rxns(node, cycle_rxns)"
   ]
  },
  {
   "cell_type": "code",
   "execution_count": 38,
   "metadata": {},
   "outputs": [],
   "source": [
    "def find_cycles(start_rxn, cycle_rxns, visited=None, path=None):\n",
    "    if visited is None:\n",
    "        visited = set()\n",
    "    if path is None:\n",
    "        path = []\n",
    "\n",
    "    path.append(start_rxn.id)\n",
    "    visited.add(start_rxn.id)\n",
    "\n",
    "    neighbors = find_neighbor_rxns(start_rxn, cycle_rxns)\n",
    "    for neighbor in neighbors:\n",
    "        if neighbor.id not in visited:\n",
    "            cycle = find_cycles(neighbor, cycle_rxns, visited, path)\n",
    "            if cycle:\n",
    "                return cycle\n",
    "        elif neighbor.id in path:\n",
    "            return path[path.index(neighbor.id):]\n",
    "\n",
    "    path.pop()\n",
    "    return None"
   ]
  },
  {
   "cell_type": "code",
   "execution_count": 39,
   "metadata": {},
   "outputs": [],
   "source": [
    "start_reaction = model.reactions.get_by_id(\"rxn00836_c0\")  # Replace with your starting reaction\n",
    "cycle = find_cycles(start_reaction, cycle_rxns)"
   ]
  },
  {
   "cell_type": "code",
   "execution_count": 40,
   "metadata": {},
   "outputs": [
    {
     "data": {
      "text/plain": [
       "['rxn00915_c0']"
      ]
     },
     "execution_count": 40,
     "metadata": {},
     "output_type": "execute_result"
    }
   ],
   "source": [
    "cycle"
   ]
  }
 ],
 "metadata": {
  "kernelspec": {
   "display_name": "memote-test",
   "language": "python",
   "name": "python3"
  },
  "language_info": {
   "codemirror_mode": {
    "name": "ipython",
    "version": 3
   },
   "file_extension": ".py",
   "mimetype": "text/x-python",
   "name": "python",
   "nbconvert_exporter": "python",
   "pygments_lexer": "ipython3",
   "version": "3.10.4"
  },
  "orig_nbformat": 4
 },
 "nbformat": 4,
 "nbformat_minor": 2
}
