{
 "cells": [
  {
   "cell_type": "code",
   "execution_count": 1,
   "metadata": {},
   "outputs": [],
   "source": [
    "import json"
   ]
  },
  {
   "cell_type": "code",
   "execution_count": 2,
   "metadata": {},
   "outputs": [
    {
     "name": "stdout",
     "output_type": "stream",
     "text": [
      "Loaded 43774 reactions.\n"
     ]
    }
   ],
   "source": [
    "# Load the ModelSEED reaction database\n",
    "reactions_data = json.load(open(\"/Users/helenscott/Documents/PhD/Segre-lab/ModelSEEDDatabase/Biochemistry/reactions.json\"))\n",
    "total_reactions = len(reactions_data)\n",
    "print(f\"Loaded {total_reactions} reactions.\")"
   ]
  },
  {
   "cell_type": "code",
   "execution_count": 8,
   "metadata": {},
   "outputs": [
    {
     "data": {
      "text/plain": [
       "False"
      ]
     },
     "execution_count": 8,
     "metadata": {},
     "output_type": "execute_result"
    }
   ],
   "source": [
    "rxn = reactions_data[0]\n",
    "'3.2.2.20' in rxn['ec_numbers']"
   ]
  },
  {
   "cell_type": "code",
   "execution_count": 17,
   "metadata": {},
   "outputs": [
    {
     "name": "stdout",
     "output_type": "stream",
     "text": [
      "No EC numbers\n"
     ]
    }
   ],
   "source": [
    "if reactions_data[43773]['ec_numbers']:\n",
    "    print(reactions_data[43773]['ec_numbers'])\n",
    "else:\n",
    "    print(\"No EC numbers\")"
   ]
  },
  {
   "cell_type": "code",
   "execution_count": 19,
   "metadata": {},
   "outputs": [
    {
     "data": {
      "text/plain": [
       "4"
      ]
     },
     "execution_count": 19,
     "metadata": {},
     "output_type": "execute_result"
    }
   ],
   "source": [
    "# How many reactions have \"3.2.2.20\" as their EC number?\n",
    "matching_rxns = [rxn for rxn in reactions_data if rxn['ec_numbers'] and '3.2.2.20' in rxn['ec_numbers']]\n",
    "len(matching_rxns)"
   ]
  },
  {
   "cell_type": "code",
   "execution_count": 20,
   "metadata": {},
   "outputs": [
    {
     "data": {
      "text/plain": [
       "3"
      ]
     },
     "execution_count": 20,
     "metadata": {},
     "output_type": "execute_result"
    }
   ],
   "source": [
    "# How many of those reactions are non-obsolete?\n",
    "non_obsolete_rxns = [rxn for rxn in matching_rxns if not rxn['is_obsolete']]\n",
    "len(non_obsolete_rxns)"
   ]
  },
  {
   "cell_type": "code",
   "execution_count": 24,
   "metadata": {},
   "outputs": [
    {
     "name": "stdout",
     "output_type": "stream",
     "text": [
      "rxn18017 :\n",
      "-1:cpd00001:0:0:\"H2O\";-1:cpd26911:0:0:\"DNA-with-Alkylated-Adenines\";1:cpd00677:0:0:\"3-Methyladenine\";1:cpd26896:0:0:\"DNA-N\"\n",
      "rxn26131 :\n",
      "-1:cpd00001:0:0:\"H2O\";-1:cpd26911:0:0:\"DNA-with-Alkylated-Adenines\";1:cpd00677:0:0:\"3-Methyladenine\";1:cpd26907:0:0:\"DNA-containing-a-Purinic-Sites\"\n",
      "rxn47448 :\n",
      "-1:cpd00001:0:0:H2O;-1:cpd36947:0:0:DNA-3-methyladenines;1:cpd00677:0:0:3-Methyladenine;1:cpd26906:0:0:DNA-containing-a-Apyrimidinic-Sites\n"
     ]
    }
   ],
   "source": [
    "# Are these different reactions or the same reaction?\n",
    "# Print out the stoichiometry for each of the non-obsolete reactions\n",
    "for rxn in non_obsolete_rxns:\n",
    "    print(rxn['id'], ':')\n",
    "    print(rxn['stoichiometry'])"
   ]
  },
  {
   "cell_type": "code",
   "execution_count": 22,
   "metadata": {},
   "outputs": [
    {
     "data": {
      "text/plain": [
       "{'abbreviation': 'RXN0-5189.c',\n",
       " 'abstract_reaction': None,\n",
       " 'aliases': ['AraCyc: RXN0-5189',\n",
       "  'CornCyc: RXN0-5189',\n",
       "  'EcoCyc: RXN0-5189',\n",
       "  'MaizeCyc: RXN0-5189',\n",
       "  'MetaCyc: RXN0-5189',\n",
       "  'Name: 3-methyladenine DNA glycosylase I; DNA-3-methyladenine glycosidase I; DNA-3-methyladenine glycosylase I; alkylated-DNA glycohydrolase (releasing methyladenine and methylguanine); deoxyribonucleate 3-methyladenine glycosidase I'],\n",
       " 'code': '(1) cpd00001[0] + (1) cpd26911[0] <=> (1) cpd00677[0] + (1) cpd26907[0]',\n",
       " 'compound_ids': 'cpd00001;cpd00677;cpd26907;cpd26911',\n",
       " 'definition': '(1) H2O[0] + (1) DNA-with-Alkylated-Adenines[0] <= (1) 3-Methyladenine[0] + (1) DNA-containing-a-Purinic-Sites[0]',\n",
       " 'deltag': 10000000.0,\n",
       " 'deltagerr': 10000000.0,\n",
       " 'direction': '<',\n",
       " 'ec_numbers': ['3.2.2.20'],\n",
       " 'equation': '(1) cpd00001[0] + (1) cpd26911[0] <= (1) cpd00677[0] + (1) cpd26907[0]',\n",
       " 'id': 'rxn26131',\n",
       " 'is_obsolete': 0,\n",
       " 'is_transport': 0,\n",
       " 'linked_reaction': 'rxn38526',\n",
       " 'name': '3-methyladenine DNA glycosylase I',\n",
       " 'notes': ['GCP', 'EQP'],\n",
       " 'pathways': None,\n",
       " 'reversibility': '?',\n",
       " 'source': 'Primary Database',\n",
       " 'status': 'CPDFORMERROR',\n",
       " 'stoichiometry': '-1:cpd00001:0:0:\"H2O\";-1:cpd26911:0:0:\"DNA-with-Alkylated-Adenines\";1:cpd00677:0:0:\"3-Methyladenine\";1:cpd26907:0:0:\"DNA-containing-a-Purinic-Sites\"'}"
      ]
     },
     "execution_count": 22,
     "metadata": {},
     "output_type": "execute_result"
    }
   ],
   "source": [
    "non_obsolete_rxns[1]"
   ]
  },
  {
   "cell_type": "code",
   "execution_count": 23,
   "metadata": {},
   "outputs": [
    {
     "data": {
      "text/plain": [
       "{'abbreviation': '',\n",
       " 'abstract_reaction': None,\n",
       " 'aliases': ['MetaCyc: RXN0-5189'],\n",
       " 'code': '(1) cpd00001[0] + (1) cpd36947[0] <=> (1) cpd00677[0] + (1) cpd26906[0]',\n",
       " 'compound_ids': 'cpd00001;cpd00677;cpd26906;cpd36947',\n",
       " 'definition': '(1) H2O[0] + (1) DNA-3-methyladenines[0] <=> (1) 3-Methyladenine[0] + (1) DNA-containing-a-Apyrimidinic-Sites[0]',\n",
       " 'deltag': 10000000.0,\n",
       " 'deltagerr': 10000000.0,\n",
       " 'direction': '=',\n",
       " 'ec_numbers': ['3.2.2.20'],\n",
       " 'equation': '(1) cpd00001[0] + (1) cpd36947[0] <=> (1) cpd00677[0] + (1) cpd26906[0]',\n",
       " 'id': 'rxn47448',\n",
       " 'is_obsolete': 0,\n",
       " 'is_transport': 0,\n",
       " 'linked_reaction': None,\n",
       " 'name': '',\n",
       " 'notes': ['GCP', 'EQP'],\n",
       " 'pathways': None,\n",
       " 'reversibility': '?',\n",
       " 'source': 'Primary Database',\n",
       " 'status': 'OK',\n",
       " 'stoichiometry': '-1:cpd00001:0:0:H2O;-1:cpd36947:0:0:DNA-3-methyladenines;1:cpd00677:0:0:3-Methyladenine;1:cpd26906:0:0:DNA-containing-a-Apyrimidinic-Sites'}"
      ]
     },
     "execution_count": 23,
     "metadata": {},
     "output_type": "execute_result"
    }
   ],
   "source": [
    "non_obsolete_rxns[2]"
   ]
  },
  {
   "cell_type": "code",
   "execution_count": null,
   "metadata": {},
   "outputs": [],
   "source": []
  }
 ],
 "metadata": {
  "kernelspec": {
   "display_name": "med4-hot1a3",
   "language": "python",
   "name": "python3"
  },
  "language_info": {
   "codemirror_mode": {
    "name": "ipython",
    "version": 3
   },
   "file_extension": ".py",
   "mimetype": "text/x-python",
   "name": "python",
   "nbconvert_exporter": "python",
   "pygments_lexer": "ipython3",
   "version": "3.10.4"
  }
 },
 "nbformat": 4,
 "nbformat_minor": 2
}
