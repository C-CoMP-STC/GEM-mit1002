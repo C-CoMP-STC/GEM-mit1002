{
 "cells": [
  {
   "cell_type": "code",
   "execution_count": 1,
   "metadata": {},
   "outputs": [
    {
     "name": "stderr",
     "output_type": "stream",
     "text": [
      "/Users/helenscott/opt/miniconda3/envs/med4-hot1a3/lib/python3.10/site-packages/scipy/__init__.py:155: UserWarning: A NumPy version >=1.18.5 and <1.26.0 is required for this version of SciPy (detected version 1.26.0\n",
      "  warnings.warn(f\"A NumPy version >={np_minversion} and <{np_maxversion}\"\n"
     ]
    }
   ],
   "source": [
    "import cobra"
   ]
  },
  {
   "cell_type": "code",
   "execution_count": 2,
   "metadata": {},
   "outputs": [
    {
     "name": "stderr",
     "output_type": "stream",
     "text": [
      "'' is not a valid SBML 'SId'.\n"
     ]
    }
   ],
   "source": [
    "model = cobra.io.read_sbml_model(\"model.xml\")"
   ]
  },
  {
   "cell_type": "code",
   "execution_count": 3,
   "metadata": {},
   "outputs": [],
   "source": [
    "# List of blocked biomass components from the MEMOTE report\n",
    "blocked_components = [\"cpd00220_c0\",\"cpd00201_c0\",\"cpd15352_c0\",\"cpd00056_c0\",\"cpd00345_c0\",\"cpd00010_c0\",\"cpd00118_c0\",\"cpd00254_c0\",\"cpd00099_c0\",\"cpd15500_c0\",\"cpd00149_c0\",\"cpd15793_c0\",\"cpd00557_c0\",\"cpd11493_c0\",\"cpd10515_c0\",\"cpd00087_c0\",\"cpd11463_c0\",\"cpd02229_c0\",\"cpd15665_c0\",\"cpd00264_c0\",\"cpd15560_c0\",\"cpd00015_c0\"]"
   ]
  },
  {
   "cell_type": "code",
   "execution_count": 4,
   "metadata": {},
   "outputs": [],
   "source": [
    "# Function to take the biomass component list and print a table in markdown format\n",
    "def print_component_table(model, blocked_components):\n",
    "    print(\"| ID | Name |\")\n",
    "    print(\"| --- | --- |\")\n",
    "    for component in blocked_components:\n",
    "        print(\"| \" + component + \" | \" + model.metabolites.get_by_id(component).name + \" |\")"
   ]
  },
  {
   "cell_type": "code",
   "execution_count": 5,
   "metadata": {},
   "outputs": [
    {
     "name": "stdout",
     "output_type": "stream",
     "text": [
      "| ID | Name |\n",
      "| --- | --- |\n",
      "| cpd00220_c0 | Riboflavin [c0] |\n",
      "| cpd00201_c0 | 10-Formyltetrahydrofolate [c0] |\n",
      "| cpd15352_c0 | 2-Demethylmenaquinone 8 [c0] |\n",
      "| cpd00056_c0 | TPP [c0] |\n",
      "| cpd00345_c0 | 5-Methyltetrahydrofolate [c0] |\n",
      "| cpd00010_c0 | CoA [c0] |\n",
      "| cpd00118_c0 | Putrescine [c0] |\n",
      "| cpd00254_c0 | Mg [c0] |\n",
      "| cpd00099_c0 | Cl- [c0] |\n",
      "| cpd15500_c0 | Menaquinone 8 [c0] |\n",
      "| cpd00149_c0 | Co2+ [c0] |\n",
      "| cpd15793_c0 | Stearoylcardiolipin (B. subtilis) [c0] |\n",
      "| cpd00557_c0 | Siroheme [c0] |\n",
      "| cpd11493_c0 | ACP [c0] |\n",
      "| cpd10515_c0 | Fe2+ [c0] |\n",
      "| cpd00087_c0 | Tetrahydrofolate [c0] |\n",
      "| cpd11463_c0 | Protein [c0] |\n",
      "| cpd02229_c0 | Bactoprenyl diphosphate [c0] |\n",
      "| cpd15665_c0 | Peptidoglycan polymer (n subunits) [c0] |\n",
      "| cpd00264_c0 | Spermidine [c0] |\n",
      "| cpd15560_c0 | Ubiquinone-8 [c0] |\n",
      "| cpd00015_c0 | FAD [c0] |\n"
     ]
    }
   ],
   "source": [
    "# Run the function\n",
    "print_component_table(model, blocked_components)"
   ]
  }
 ],
 "metadata": {
  "kernelspec": {
   "display_name": "med4-hot1a3",
   "language": "python",
   "name": "python3"
  },
  "language_info": {
   "codemirror_mode": {
    "name": "ipython",
    "version": 3
   },
   "file_extension": ".py",
   "mimetype": "text/x-python",
   "name": "python",
   "nbconvert_exporter": "python",
   "pygments_lexer": "ipython3",
   "version": "3.10.4"
  },
  "orig_nbformat": 4
 },
 "nbformat": 4,
 "nbformat_minor": 2
}
