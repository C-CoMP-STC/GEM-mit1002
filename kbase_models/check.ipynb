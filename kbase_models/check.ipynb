{
 "cells": [
  {
   "attachments": {},
   "cell_type": "markdown",
   "metadata": {},
   "source": [
    "# Question: What are the most common exchange reactions?\n",
    "I.e. what could I add to the anvio model to get it to run?"
   ]
  },
  {
   "cell_type": "code",
   "execution_count": null,
   "metadata": {},
   "outputs": [],
   "source": [
    "import cobra"
   ]
  },
  {
   "cell_type": "code",
   "execution_count": null,
   "metadata": {},
   "outputs": [],
   "source": [
    "# Load the models\n",
    "gem_dram = cobra.io.read_sbml_model('GEM-MIT1002_DRAM.sbml')\n",
    "gem_prokka = cobra.io.read_sbml_model('GEM-MIT1002_Prokka.sbml')\n",
    "gem_rast = cobra.io.read_sbml_model('GEM-MIT1002_RAST.sbml')\n",
    "\n",
    "gem_union = cobra.io.read_sbml_model('MIT1002_union.sbml')\n",
    "gem_intersection = cobra.io.read_sbml_model('MIT1002_intersection.sbml')\n",
    "\n",
    "gem_2_or_more = cobra.io.read_sbml_model('MIT1002_2OrMore.sbml')\n",
    "gem_majority_rule = cobra.io.read_sbml_model('MIT1002_MajorityRule.sbml')\n",
    "gem_priority_list = cobra.io.read_sbml_model('MIT1002_PriorityList.sbml')\n",
    "\n",
    "gem_bayesian_core = cobra.io.load_json_model('alteromonas_bayesian_core.json')"
   ]
  },
  {
   "cell_type": "code",
   "execution_count": null,
   "metadata": {},
   "outputs": [],
   "source": [
    "models_with_names = {'DRAM': gem_dram,\n",
    "                     'Prokka': gem_prokka,\n",
    "                     'RASTtk': gem_dram,\n",
    "                     'Intersection': gem_intersection,\n",
    "                     '2+ Annotations': gem_2_or_more,\n",
    "                     'Priority List': gem_priority_list,\n",
    "                     'Majority Rule': gem_majority_rule,\n",
    "                     'Union': gem_union,\n",
    "                     'Bayesian Pangenome Core': gem_bayesian_core\n",
    "                     }"
   ]
  },
  {
   "cell_type": "code",
   "execution_count": null,
   "metadata": {},
   "outputs": [],
   "source": [
    "len([r.id for r in gem_intersection.reactions])"
   ]
  },
  {
   "cell_type": "code",
   "execution_count": null,
   "metadata": {},
   "outputs": [],
   "source": [
    "len([r.id for r in gem_intersection.reactions if 'EX_' in r.id])"
   ]
  },
  {
   "attachments": {},
   "cell_type": "markdown",
   "metadata": {},
   "source": [
    "## There are 90 exchange reactions in the intersection model"
   ]
  },
  {
   "cell_type": "code",
   "execution_count": null,
   "metadata": {},
   "outputs": [],
   "source": [
    "len([r.id for r in gem_2_or_more.reactions])"
   ]
  },
  {
   "cell_type": "code",
   "execution_count": null,
   "metadata": {},
   "outputs": [],
   "source": [
    "len([r.id for r in gem_2_or_more.reactions if 'EX_' in r.id])"
   ]
  },
  {
   "attachments": {},
   "cell_type": "markdown",
   "metadata": {},
   "source": [
    "## And there are still only 90 in the 2 or more, so it must be pretty conserved"
   ]
  }
 ],
 "metadata": {
  "kernelspec": {
   "display_name": "base",
   "language": "python",
   "name": "python3"
  },
  "language_info": {
   "codemirror_mode": {
    "name": "ipython",
    "version": 3
   },
   "file_extension": ".py",
   "mimetype": "text/x-python",
   "name": "python",
   "nbconvert_exporter": "python",
   "pygments_lexer": "ipython3",
   "version": "3.9.13"
  },
  "orig_nbformat": 4
 },
 "nbformat": 4,
 "nbformat_minor": 2
}
