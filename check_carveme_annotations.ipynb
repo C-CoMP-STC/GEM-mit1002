{
 "cells": [
  {
   "cell_type": "code",
   "execution_count": 1,
   "metadata": {},
   "outputs": [],
   "source": [
    "import cobra"
   ]
  },
  {
   "cell_type": "code",
   "execution_count": 3,
   "metadata": {},
   "outputs": [
    {
     "name": "stderr",
     "output_type": "stream",
     "text": [
      "Adding exchange reaction EX_2obut_e with default bounds for boundary metabolite: 2obut_e.\n",
      "Adding exchange reaction EX_LalaDgluMdap_e with default bounds for boundary metabolite: LalaDgluMdap_e.\n",
      "Adding exchange reaction EX_ac_e with default bounds for boundary metabolite: ac_e.\n",
      "Adding exchange reaction EX_acald_e with default bounds for boundary metabolite: acald_e.\n",
      "Adding exchange reaction EX_acgam_e with default bounds for boundary metabolite: acgam_e.\n",
      "Adding exchange reaction EX_adn_e with default bounds for boundary metabolite: adn_e.\n",
      "Adding exchange reaction EX_agm_e with default bounds for boundary metabolite: agm_e.\n",
      "Adding exchange reaction EX_ala__D_e with default bounds for boundary metabolite: ala__D_e.\n",
      "Adding exchange reaction EX_amp_e with default bounds for boundary metabolite: amp_e.\n",
      "Adding exchange reaction EX_anhgm_e with default bounds for boundary metabolite: anhgm_e.\n",
      "Adding exchange reaction EX_arg__L_e with default bounds for boundary metabolite: arg__L_e.\n",
      "Adding exchange reaction EX_asp__L_e with default bounds for boundary metabolite: asp__L_e.\n",
      "Adding exchange reaction EX_bz_e with default bounds for boundary metabolite: bz_e.\n",
      "Adding exchange reaction EX_ca2_e with default bounds for boundary metabolite: ca2_e.\n",
      "Adding exchange reaction EX_chor_e with default bounds for boundary metabolite: chor_e.\n",
      "Adding exchange reaction EX_cit_e with default bounds for boundary metabolite: cit_e.\n",
      "Adding exchange reaction EX_cl_e with default bounds for boundary metabolite: cl_e.\n",
      "Adding exchange reaction EX_co2_e with default bounds for boundary metabolite: co2_e.\n",
      "Adding exchange reaction EX_coa_e with default bounds for boundary metabolite: coa_e.\n",
      "Adding exchange reaction EX_cobalt2_e with default bounds for boundary metabolite: cobalt2_e.\n",
      "Adding exchange reaction EX_cu2_e with default bounds for boundary metabolite: cu2_e.\n",
      "Adding exchange reaction EX_dtmp_e with default bounds for boundary metabolite: dtmp_e.\n",
      "Adding exchange reaction EX_fad_e with default bounds for boundary metabolite: fad_e.\n",
      "Adding exchange reaction EX_fe3_e with default bounds for boundary metabolite: fe3_e.\n",
      "Adding exchange reaction EX_fe3pyovd_kt_e with default bounds for boundary metabolite: fe3pyovd_kt_e.\n",
      "Adding exchange reaction EX_fru_e with default bounds for boundary metabolite: fru_e.\n",
      "Adding exchange reaction EX_g3pg_e with default bounds for boundary metabolite: g3pg_e.\n",
      "Adding exchange reaction EX_gcald_e with default bounds for boundary metabolite: gcald_e.\n",
      "Adding exchange reaction EX_glcn_e with default bounds for boundary metabolite: glcn_e.\n",
      "Adding exchange reaction EX_gln__L_e with default bounds for boundary metabolite: gln__L_e.\n",
      "Adding exchange reaction EX_glu__L_e with default bounds for boundary metabolite: glu__L_e.\n",
      "Adding exchange reaction EX_gly_phe_e with default bounds for boundary metabolite: gly_phe_e.\n",
      "Adding exchange reaction EX_gthrd_e with default bounds for boundary metabolite: gthrd_e.\n",
      "Adding exchange reaction EX_h2o_e with default bounds for boundary metabolite: h2o_e.\n",
      "Adding exchange reaction EX_h2s_e with default bounds for boundary metabolite: h2s_e.\n",
      "Adding exchange reaction EX_h_e with default bounds for boundary metabolite: h_e.\n",
      "Adding exchange reaction EX_hdca_e with default bounds for boundary metabolite: hdca_e.\n",
      "Adding exchange reaction EX_his__L_e with default bounds for boundary metabolite: his__L_e.\n",
      "Adding exchange reaction EX_hom__L_e with default bounds for boundary metabolite: hom__L_e.\n",
      "Adding exchange reaction EX_hxan_e with default bounds for boundary metabolite: hxan_e.\n",
      "Adding exchange reaction EX_ile__L_e with default bounds for boundary metabolite: ile__L_e.\n",
      "Adding exchange reaction EX_inost_e with default bounds for boundary metabolite: inost_e.\n",
      "Adding exchange reaction EX_k_e with default bounds for boundary metabolite: k_e.\n",
      "Adding exchange reaction EX_lys__L_e with default bounds for boundary metabolite: lys__L_e.\n",
      "Adding exchange reaction EX_meoh_e with default bounds for boundary metabolite: meoh_e.\n",
      "Adding exchange reaction EX_met__L_e with default bounds for boundary metabolite: met__L_e.\n",
      "Adding exchange reaction EX_mg2_e with default bounds for boundary metabolite: mg2_e.\n",
      "Adding exchange reaction EX_mn2_e with default bounds for boundary metabolite: mn2_e.\n",
      "Adding exchange reaction EX_nac_e with default bounds for boundary metabolite: nac_e.\n",
      "Adding exchange reaction EX_nh4_e with default bounds for boundary metabolite: nh4_e.\n",
      "Adding exchange reaction EX_o2_e with default bounds for boundary metabolite: o2_e.\n",
      "Adding exchange reaction EX_orn_e with default bounds for boundary metabolite: orn_e.\n",
      "Adding exchange reaction EX_phe__L_e with default bounds for boundary metabolite: phe__L_e.\n",
      "Adding exchange reaction EX_pi_e with default bounds for boundary metabolite: pi_e.\n",
      "Adding exchange reaction EX_pro__L_e with default bounds for boundary metabolite: pro__L_e.\n",
      "Adding exchange reaction EX_pser__L_e with default bounds for boundary metabolite: pser__L_e.\n",
      "Adding exchange reaction EX_ptrc_e with default bounds for boundary metabolite: ptrc_e.\n",
      "Adding exchange reaction EX_pyovd_kt_e with default bounds for boundary metabolite: pyovd_kt_e.\n",
      "Adding exchange reaction EX_ribflv_e with default bounds for boundary metabolite: ribflv_e.\n",
      "Adding exchange reaction EX_s_e with default bounds for boundary metabolite: s_e.\n",
      "Adding exchange reaction EX_ser__L_e with default bounds for boundary metabolite: ser__L_e.\n",
      "Adding exchange reaction EX_skm_e with default bounds for boundary metabolite: skm_e.\n",
      "Adding exchange reaction EX_stfrnA_e with default bounds for boundary metabolite: stfrnA_e.\n",
      "Adding exchange reaction EX_thm_e with default bounds for boundary metabolite: thm_e.\n",
      "Adding exchange reaction EX_thr__L_e with default bounds for boundary metabolite: thr__L_e.\n",
      "Adding exchange reaction EX_tre_e with default bounds for boundary metabolite: tre_e.\n",
      "Adding exchange reaction EX_trp__L_e with default bounds for boundary metabolite: trp__L_e.\n",
      "Adding exchange reaction EX_tyr__L_e with default bounds for boundary metabolite: tyr__L_e.\n",
      "Adding exchange reaction EX_uaccg_e with default bounds for boundary metabolite: uaccg_e.\n",
      "Adding exchange reaction EX_udcpp_e with default bounds for boundary metabolite: udcpp_e.\n",
      "Adding exchange reaction EX_ump_e with default bounds for boundary metabolite: ump_e.\n",
      "Adding exchange reaction EX_val__L_e with default bounds for boundary metabolite: val__L_e.\n",
      "Adding exchange reaction EX_zn2_e with default bounds for boundary metabolite: zn2_e.\n",
      "Adding exchange reaction EX_pydxn_e with default bounds for boundary metabolite: pydxn_e.\n",
      "Adding exchange reaction EX_so4_e with default bounds for boundary metabolite: so4_e.\n",
      "Adding exchange reaction EX_glc__D_e with default bounds for boundary metabolite: glc__D_e.\n",
      "Adding exchange reaction EX_no3_e with default bounds for boundary metabolite: no3_e.\n",
      "Adding exchange reaction EX_ala__L_e with default bounds for boundary metabolite: ala__L_e.\n",
      "Adding exchange reaction EX_glyc3p_e with default bounds for boundary metabolite: glyc3p_e.\n",
      "Ignoring reaction 'EX_2obut_e' since it already exists.\n",
      "Ignoring reaction 'EX_LalaDgluMdap_e' since it already exists.\n",
      "Ignoring reaction 'EX_ac_e' since it already exists.\n",
      "Ignoring reaction 'EX_acald_e' since it already exists.\n",
      "Ignoring reaction 'EX_acgam_e' since it already exists.\n",
      "Ignoring reaction 'EX_adn_e' since it already exists.\n",
      "Ignoring reaction 'EX_agm_e' since it already exists.\n",
      "Ignoring reaction 'EX_ala__D_e' since it already exists.\n",
      "Ignoring reaction 'EX_amp_e' since it already exists.\n",
      "Ignoring reaction 'EX_anhgm_e' since it already exists.\n",
      "Ignoring reaction 'EX_arg__L_e' since it already exists.\n",
      "Ignoring reaction 'EX_asp__L_e' since it already exists.\n",
      "Ignoring reaction 'EX_bz_e' since it already exists.\n",
      "Ignoring reaction 'EX_ca2_e' since it already exists.\n",
      "Ignoring reaction 'EX_chor_e' since it already exists.\n",
      "Ignoring reaction 'EX_cit_e' since it already exists.\n",
      "Ignoring reaction 'EX_cl_e' since it already exists.\n",
      "Ignoring reaction 'EX_co2_e' since it already exists.\n",
      "Ignoring reaction 'EX_coa_e' since it already exists.\n",
      "Ignoring reaction 'EX_cobalt2_e' since it already exists.\n",
      "Ignoring reaction 'EX_cu2_e' since it already exists.\n",
      "Ignoring reaction 'EX_dtmp_e' since it already exists.\n",
      "Ignoring reaction 'EX_fad_e' since it already exists.\n",
      "Ignoring reaction 'EX_fe3_e' since it already exists.\n",
      "Ignoring reaction 'EX_fe3pyovd_kt_e' since it already exists.\n",
      "Ignoring reaction 'EX_fru_e' since it already exists.\n",
      "Ignoring reaction 'EX_g3pg_e' since it already exists.\n",
      "Ignoring reaction 'EX_gcald_e' since it already exists.\n",
      "Ignoring reaction 'EX_glcn_e' since it already exists.\n",
      "Ignoring reaction 'EX_gln__L_e' since it already exists.\n",
      "Ignoring reaction 'EX_glu__L_e' since it already exists.\n",
      "Ignoring reaction 'EX_gly_phe_e' since it already exists.\n",
      "Ignoring reaction 'EX_gthrd_e' since it already exists.\n",
      "Ignoring reaction 'EX_h2o_e' since it already exists.\n",
      "Ignoring reaction 'EX_h2s_e' since it already exists.\n",
      "Ignoring reaction 'EX_h_e' since it already exists.\n",
      "Ignoring reaction 'EX_hdca_e' since it already exists.\n",
      "Ignoring reaction 'EX_his__L_e' since it already exists.\n",
      "Ignoring reaction 'EX_hom__L_e' since it already exists.\n",
      "Ignoring reaction 'EX_hxan_e' since it already exists.\n",
      "Ignoring reaction 'EX_ile__L_e' since it already exists.\n",
      "Ignoring reaction 'EX_inost_e' since it already exists.\n",
      "Ignoring reaction 'EX_k_e' since it already exists.\n",
      "Ignoring reaction 'EX_lys__L_e' since it already exists.\n",
      "Ignoring reaction 'EX_meoh_e' since it already exists.\n",
      "Ignoring reaction 'EX_met__L_e' since it already exists.\n",
      "Ignoring reaction 'EX_mg2_e' since it already exists.\n",
      "Ignoring reaction 'EX_mn2_e' since it already exists.\n",
      "Ignoring reaction 'EX_nac_e' since it already exists.\n",
      "Ignoring reaction 'EX_nh4_e' since it already exists.\n",
      "Ignoring reaction 'EX_o2_e' since it already exists.\n",
      "Ignoring reaction 'EX_orn_e' since it already exists.\n",
      "Ignoring reaction 'EX_phe__L_e' since it already exists.\n",
      "Ignoring reaction 'EX_pi_e' since it already exists.\n",
      "Ignoring reaction 'EX_pro__L_e' since it already exists.\n",
      "Ignoring reaction 'EX_pser__L_e' since it already exists.\n",
      "Ignoring reaction 'EX_ptrc_e' since it already exists.\n",
      "Ignoring reaction 'EX_pyovd_kt_e' since it already exists.\n",
      "Ignoring reaction 'EX_ribflv_e' since it already exists.\n",
      "Ignoring reaction 'EX_s_e' since it already exists.\n",
      "Ignoring reaction 'EX_ser__L_e' since it already exists.\n",
      "Ignoring reaction 'EX_skm_e' since it already exists.\n",
      "Ignoring reaction 'EX_stfrnA_e' since it already exists.\n",
      "Ignoring reaction 'EX_thm_e' since it already exists.\n",
      "Ignoring reaction 'EX_thr__L_e' since it already exists.\n",
      "Ignoring reaction 'EX_tre_e' since it already exists.\n",
      "Ignoring reaction 'EX_trp__L_e' since it already exists.\n",
      "Ignoring reaction 'EX_tyr__L_e' since it already exists.\n",
      "Ignoring reaction 'EX_uaccg_e' since it already exists.\n",
      "Ignoring reaction 'EX_udcpp_e' since it already exists.\n",
      "Ignoring reaction 'EX_ump_e' since it already exists.\n",
      "Ignoring reaction 'EX_val__L_e' since it already exists.\n",
      "Ignoring reaction 'EX_zn2_e' since it already exists.\n",
      "Ignoring reaction 'EX_pydxn_e' since it already exists.\n",
      "Ignoring reaction 'EX_so4_e' since it already exists.\n",
      "Ignoring reaction 'EX_glc__D_e' since it already exists.\n",
      "Ignoring reaction 'EX_no3_e' since it already exists.\n",
      "Ignoring reaction 'EX_ala__L_e' since it already exists.\n",
      "Ignoring reaction 'EX_glyc3p_e' since it already exists.\n"
     ]
    }
   ],
   "source": [
    "model = cobra.io.read_sbml_model(\"carveme_model.xml\")"
   ]
  },
  {
   "cell_type": "code",
   "execution_count": 4,
   "metadata": {},
   "outputs": [
    {
     "data": {
      "text/plain": [
       "747"
      ]
     },
     "execution_count": 4,
     "metadata": {},
     "output_type": "execute_result"
    }
   ],
   "source": [
    "len(model.reactions)"
   ]
  },
  {
   "cell_type": "code",
   "execution_count": 6,
   "metadata": {},
   "outputs": [
    {
     "data": {
      "text/plain": [
       "{'sbo': 'SBO:0000627'}"
      ]
     },
     "execution_count": 6,
     "metadata": {},
     "output_type": "execute_result"
    }
   ],
   "source": [
    "model.reactions[0].annotation"
   ]
  },
  {
   "cell_type": "code",
   "execution_count": 31,
   "metadata": {},
   "outputs": [
    {
     "data": {
      "text/plain": [
       "458"
      ]
     },
     "execution_count": 31,
     "metadata": {},
     "output_type": "execute_result"
    }
   ],
   "source": [
    "# How many reactions have any model seed reaction annotation?\n",
    "model_seed_reactions = [r for r in model.reactions if \"seed.reaction\" in r.annotation]\n",
    "len(model_seed_reactions)"
   ]
  },
  {
   "cell_type": "markdown",
   "metadata": {},
   "source": [
    "# How many reactions have multiple ModelSEED IDs"
   ]
  },
  {
   "cell_type": "code",
   "execution_count": 25,
   "metadata": {},
   "outputs": [],
   "source": [
    "rxns_w_multi_ms_ids = [r for r in model.reactions if (\"seed.reaction\" in r.annotation) and (type(r.annotation['seed.reaction']) == list)]"
   ]
  },
  {
   "cell_type": "code",
   "execution_count": 32,
   "metadata": {},
   "outputs": [
    {
     "data": {
      "text/plain": [
       "82"
      ]
     },
     "execution_count": 32,
     "metadata": {},
     "output_type": "execute_result"
    }
   ],
   "source": [
    "len(rxns_w_multi_ms_ids)"
   ]
  },
  {
   "cell_type": "code",
   "execution_count": 33,
   "metadata": {},
   "outputs": [
    {
     "data": {
      "text/plain": [
       "540"
      ]
     },
     "execution_count": 33,
     "metadata": {},
     "output_type": "execute_result"
    }
   ],
   "source": [
    "# How many reactions total have a \n",
    "458+82"
   ]
  },
  {
   "cell_type": "code",
   "execution_count": 27,
   "metadata": {},
   "outputs": [
    {
     "data": {
      "text/plain": [
       "[['rxn08032', 'rxn08033', 'rxn09700', 'rxn13212'],\n",
       " ['rxn05485', 'rxn08041'],\n",
       " ['rxn05318', 'rxn08068'],\n",
       " ['rxn00851', 'rxn13802'],\n",
       " ['rxn05303', 'rxn09783'],\n",
       " ['rxn08154', 'rxn13228'],\n",
       " ['rxn00416', 'rxn11214'],\n",
       " ['rxn05217', 'rxn09781', 'rxn09825', 'rxn13233'],\n",
       " ['rxn08173', 'rxn10042'],\n",
       " ['rxn00137', 'rxn11357'],\n",
       " ['rxn05539', 'rxn08210'],\n",
       " ['rxn05467',\n",
       "  'rxn08237',\n",
       "  'rxn08238',\n",
       "  'rxn09706',\n",
       "  'rxn09775',\n",
       "  'rxn09821',\n",
       "  'rxn09860',\n",
       "  'rxn09876'],\n",
       " ['rxn05467',\n",
       "  'rxn08237',\n",
       "  'rxn08238',\n",
       "  'rxn09706',\n",
       "  'rxn09775',\n",
       "  'rxn09821',\n",
       "  'rxn09860',\n",
       "  'rxn09876'],\n",
       " ['rxn05467',\n",
       "  'rxn08237',\n",
       "  'rxn08238',\n",
       "  'rxn09706',\n",
       "  'rxn09775',\n",
       "  'rxn09821',\n",
       "  'rxn09860',\n",
       "  'rxn09876'],\n",
       " ['rxn10832', 'rxn13243', 'rxn13244'],\n",
       " ['rxn08241', 'rxn08242', 'rxn10474'],\n",
       " ['rxn00412', 'rxn11276'],\n",
       " ['rxn08287', 'rxn10806'],\n",
       " ['rxn08288', 'rxn10112', 'rxn12494'],\n",
       " ['rxn08234', 'rxn10473'],\n",
       " ['rxn05494', 'rxn08301'],\n",
       " ['rxn05494', 'rxn08301'],\n",
       " ['rxn05292', 'rxn08492'],\n",
       " ['rxn03975', 'rxn13930', 'rxn13939'],\n",
       " ['rxn09680', 'rxn09752'],\n",
       " ['rxn05571', 'rxn08609'],\n",
       " ['rxn05571', 'rxn08609'],\n",
       " ['rxn08610', 'rxn12424'],\n",
       " ['rxn05226', 'rxn08612'],\n",
       " ['rxn08625', 'rxn10928'],\n",
       " ['rxn08633', 'rxn09750', 'rxn10917', 'rxn13120', 'rxn13304'],\n",
       " ['rxn05581', 'rxn08654', 'rxn08658'],\n",
       " ['rxn08677', 'rxn10829'],\n",
       " ['rxn00299', 'rxn11232'],\n",
       " ['rxn05319',\n",
       "  'rxn08686',\n",
       "  'rxn08687',\n",
       "  'rxn09643',\n",
       "  'rxn09745',\n",
       "  'rxn09812',\n",
       "  'rxn09838',\n",
       "  'rxn09874'],\n",
       " ['rxn05319',\n",
       "  'rxn08686',\n",
       "  'rxn08687',\n",
       "  'rxn09643',\n",
       "  'rxn09745',\n",
       "  'rxn09812',\n",
       "  'rxn09838',\n",
       "  'rxn09874'],\n",
       " ['rxn05319',\n",
       "  'rxn08686',\n",
       "  'rxn08687',\n",
       "  'rxn09643',\n",
       "  'rxn09745',\n",
       "  'rxn09812',\n",
       "  'rxn09838',\n",
       "  'rxn09874'],\n",
       " ['rxn08689', 'rxn08690', 'rxn10541'],\n",
       " ['rxn05164', 'rxn08718'],\n",
       " ['rxn08737', 'rxn08738', 'rxn10143'],\n",
       " ['rxn05179', 'rxn08745'],\n",
       " ['rxn08762', 'rxn10168', 'rxn10558'],\n",
       " ['rxn05595', 'rxn08769'],\n",
       " ['rxn05596', 'rxn08770'],\n",
       " ['rxn05151', 'rxn08853'],\n",
       " ['rxn08854', 'rxn09674', 'rxn09740'],\n",
       " ['rxn05305', 'rxn08855', 'rxn13343'],\n",
       " ['rxn08912', 'rxn09942'],\n",
       " ['rxn06077', 'rxn08918'],\n",
       " ['rxn07439', 'rxn08919'],\n",
       " ['rxn05219', 'rxn08909', 'rxn11151'],\n",
       " ['rxn08924', 'rxn10571'],\n",
       " ['rxn05618', 'rxn08951'],\n",
       " ['rxn05310', 'rxn08969', 'rxn08970'],\n",
       " ['rxn00076', 'rxn05823'],\n",
       " ['rxn05466', 'rxn08986', 'rxn08987', 'rxn09736', 'rxn09835', 'rxn13364'],\n",
       " ['rxn05466', 'rxn08986', 'rxn08987', 'rxn09736', 'rxn09835', 'rxn13364'],\n",
       " ['rxn01507', 'rxn13134'],\n",
       " ['rxn00063', 'rxn05822'],\n",
       " ['rxn05468', 'rxn09031', 'rxn09032', 'rxn09641', 'rxn09734'],\n",
       " ['rxn05468', 'rxn09031', 'rxn09032', 'rxn09641', 'rxn09734'],\n",
       " ['rxn09044', 'rxn12225'],\n",
       " ['rxn09118', 'rxn11018'],\n",
       " ['rxn09121', 'rxn09722', 'rxn10838', 'rxn13178'],\n",
       " ['rxn00001', 'rxn11226'],\n",
       " ['rxn05638', 'rxn09191', 'rxn11167'],\n",
       " ['rxn09214', 'rxn10182'],\n",
       " ['rxn09240', 'rxn11356'],\n",
       " ['rxn09247', 'rxn10185'],\n",
       " ['rxn09248', 'rxn10999', 'rxn13110'],\n",
       " ['rxn09256', 'rxn10827'],\n",
       " ['rxn09300', 'rxn11006'],\n",
       " ['rxn05169', 'rxn09301'],\n",
       " ['rxn05663', 'rxn09326', 'rxn09709'],\n",
       " ['rxn09339', 'rxn10974'],\n",
       " ['rxn05168', 'rxn09373'],\n",
       " ['rxn05153', 'rxn09276'],\n",
       " ['rxn02008', 'rxn11252'],\n",
       " ['rxn02286', 'rxn11251'],\n",
       " ['rxn05147', 'rxn08606'],\n",
       " ['rxn09005', 'rxn10935'],\n",
       " ['rxn05496', 'rxn08101']]"
      ]
     },
     "execution_count": 27,
     "metadata": {},
     "output_type": "execute_result"
    }
   ],
   "source": [
    "[r.annotation['seed.reaction'] for r in rxns_w_multi_ms_ids]"
   ]
  },
  {
   "cell_type": "code",
   "execution_count": 30,
   "metadata": {},
   "outputs": [
    {
     "data": {
      "text/plain": [
       "['rxn05467',\n",
       " 'rxn08237',\n",
       " 'rxn08238',\n",
       " 'rxn09706',\n",
       " 'rxn09775',\n",
       " 'rxn09821',\n",
       " 'rxn09860',\n",
       " 'rxn09876']"
      ]
     },
     "execution_count": 30,
     "metadata": {},
     "output_type": "execute_result"
    }
   ],
   "source": [
    "rxns_w_multi_ms_ids[12].annotation['seed.reaction']"
   ]
  },
  {
   "cell_type": "code",
   "execution_count": null,
   "metadata": {},
   "outputs": [],
   "source": []
  }
 ],
 "metadata": {
  "kernelspec": {
   "display_name": "med4-hot1a3",
   "language": "python",
   "name": "python3"
  },
  "language_info": {
   "codemirror_mode": {
    "name": "ipython",
    "version": 3
   },
   "file_extension": ".py",
   "mimetype": "text/x-python",
   "name": "python",
   "nbconvert_exporter": "python",
   "pygments_lexer": "ipython3",
   "version": "3.10.4"
  }
 },
 "nbformat": 4,
 "nbformat_minor": 2
}
