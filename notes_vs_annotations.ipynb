{
 "cells": [
  {
   "cell_type": "code",
   "execution_count": 35,
   "metadata": {},
   "outputs": [],
   "source": [
    "import cobra\n",
    "from bs4 import BeautifulSoup\n",
    "from IPython.display import display, Markdown"
   ]
  },
  {
   "cell_type": "code",
   "execution_count": 36,
   "metadata": {},
   "outputs": [],
   "source": [
    "# Step 1: Create a toy metabolic model\n",
    "model = cobra.Model(\"toy_model\")\n",
    "\n",
    "# Step 2: Add a metabolite\n",
    "met_a = cobra.Metabolite(\"A\", compartment=\"c\")\n",
    "met_b = cobra.Metabolite(\"B\", compartment=\"c\")\n",
    "\n",
    "# Step 3: Add a simple reaction (A -> B)\n",
    "reaction = cobra.Reaction(\"RXN_ABC\")\n",
    "reaction.name = \"Toy Reaction\"\n",
    "reaction.lower_bound = 0.0  # Irreversible reaction\n",
    "reaction.upper_bound = 1000.0\n",
    "reaction.add_metabolites({met_a: -1.0, met_b: 1.0})"
   ]
  },
  {
   "cell_type": "code",
   "execution_count": 37,
   "metadata": {},
   "outputs": [],
   "source": [
    "# Step 4: Add a richly formatted note with bold, italics, and line breaks\n",
    "reaction.notes = {\n",
    "    \"html\": \"\"\"<?xml version=\"1.0\" encoding=\"UTF-8\"?>\n",
    "    <p><b>Reason:</b> This reaction was <i>gap-filled</i> to allow growth.</p>\n",
    "    <p><b>Evidence:</b> Based on <i>eggNOG</i> annotations of enzyme XYZ.</p>\n",
    "    <p><b>References:</b> DOI: <a href=\"https://doi.org/10.xxxx\">10.xxxx</a></p>\n",
    "    \"\"\"\n",
    "}"
   ]
  },
  {
   "cell_type": "code",
   "execution_count": 38,
   "metadata": {},
   "outputs": [],
   "source": [
    "# Step 5: Add the reaction to the model\n",
    "model.add_reactions([reaction])"
   ]
  },
  {
   "cell_type": "code",
   "execution_count": 39,
   "metadata": {},
   "outputs": [
    {
     "name": "stderr",
     "output_type": "stream",
     "text": [
      "Error encountered trying to <Setting notes on sbase: <Reaction R_RXN_ABC \"Toy Reaction\">>.\n",
      "LibSBML error code -3: The requested action could not be performed. This can occur in a variety of contexts, such as passing a null object as a parameter in a situation where it does not make sense to permit a null object.\n"
     ]
    },
    {
     "name": "stdout",
     "output_type": "stream",
     "text": [
      "SBML model saved as 'toy_model.xml' ✅\n"
     ]
    }
   ],
   "source": [
    "# Step 6: Save the model as an SBML file\n",
    "cobra.io.write_sbml_model(model, \"toy_model.xml\")\n",
    "print(\"SBML model saved as 'toy_model.xml' ✅\")"
   ]
  },
  {
   "cell_type": "code",
   "execution_count": 40,
   "metadata": {},
   "outputs": [
    {
     "name": "stderr",
     "output_type": "stream",
     "text": [
      "No objective coefficients in model. Unclear what should be optimized\n"
     ]
    }
   ],
   "source": [
    "# Step 7: Load the model back in\n",
    "loaded_model = cobra.io.read_sbml_model(\"toy_model.xml\")\n",
    "\n",
    "# Step 8: Retrieve and print the notes from the reaction\n",
    "loaded_reaction = loaded_model.reactions.get_by_id(\"RXN_ABC\")"
   ]
  },
  {
   "cell_type": "code",
   "execution_count": 42,
   "metadata": {},
   "outputs": [
    {
     "data": {
      "text/plain": [
       "{}"
      ]
     },
     "execution_count": 42,
     "metadata": {},
     "output_type": "execute_result"
    }
   ],
   "source": [
    "loaded_reaction.notes"
   ]
  },
  {
   "cell_type": "code",
   "execution_count": 41,
   "metadata": {},
   "outputs": [
    {
     "ename": "KeyError",
     "evalue": "'html'",
     "output_type": "error",
     "traceback": [
      "\u001b[0;31m---------------------------------------------------------------------------\u001b[0m",
      "\u001b[0;31mKeyError\u001b[0m                                  Traceback (most recent call last)",
      "Input \u001b[0;32mIn [41]\u001b[0m, in \u001b[0;36m<cell line: 1>\u001b[0;34m()\u001b[0m\n\u001b[0;32m----> 1\u001b[0m \u001b[43mloaded_reaction\u001b[49m\u001b[38;5;241;43m.\u001b[39;49m\u001b[43mnotes\u001b[49m\u001b[43m[\u001b[49m\u001b[38;5;124;43m'\u001b[39;49m\u001b[38;5;124;43mhtml\u001b[39;49m\u001b[38;5;124;43m'\u001b[39;49m\u001b[43m]\u001b[49m\n",
      "\u001b[0;31mKeyError\u001b[0m: 'html'"
     ]
    }
   ],
   "source": [
    "loaded_reaction.notes['html']"
   ]
  },
  {
   "cell_type": "code",
   "execution_count": null,
   "metadata": {},
   "outputs": [
    {
     "name": "stdout",
     "output_type": "stream",
     "text": [
      "\n",
      "Reason: This reaction was gap-filled to allow growth.\n"
     ]
    }
   ],
   "source": [
    "# Extract and clean the HTML notes with BeautifulSoup (good when working in the terminal)\n",
    "html_content = loaded_reaction.notes[\"html\"]\n",
    "clean_text = BeautifulSoup(html_content, \"html.parser\").get_text()\n",
    "\n",
    "print(clean_text)"
   ]
  },
  {
   "cell_type": "code",
   "execution_count": null,
   "metadata": {},
   "outputs": [
    {
     "data": {
      "text/markdown": [
       "<p>\n",
       "      <b>Reason:</b> This reaction was <i>gap-filled</i> to allow growth."
      ],
      "text/plain": [
       "<IPython.core.display.Markdown object>"
      ]
     },
     "metadata": {},
     "output_type": "display_data"
    }
   ],
   "source": [
    "# Display the HTML notes as markdown (for Jupyter notebooks)\n",
    "\n",
    "display(Markdown(html_content))"
   ]
  }
 ],
 "metadata": {
  "kernelspec": {
   "display_name": "med4-hot1a3",
   "language": "python",
   "name": "python3"
  },
  "language_info": {
   "codemirror_mode": {
    "name": "ipython",
    "version": 3
   },
   "file_extension": ".py",
   "mimetype": "text/x-python",
   "name": "python",
   "nbconvert_exporter": "python",
   "pygments_lexer": "ipython3",
   "version": "3.10.4"
  }
 },
 "nbformat": 4,
 "nbformat_minor": 2
}
