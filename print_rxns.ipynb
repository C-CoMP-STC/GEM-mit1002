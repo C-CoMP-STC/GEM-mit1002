{
 "cells": [
  {
   "cell_type": "code",
   "execution_count": 1,
   "metadata": {},
   "outputs": [],
   "source": [
    "import cobra"
   ]
  },
  {
   "cell_type": "code",
   "execution_count": 2,
   "metadata": {},
   "outputs": [
    {
     "name": "stderr",
     "output_type": "stream",
     "text": [
      "'' is not a valid SBML 'SId'.\n"
     ]
    },
    {
     "name": "stdout",
     "output_type": "stream",
     "text": [
      "Scaling...\n",
      " A: min|aij| =  1.000e+00  max|aij| =  1.000e+00  ratio =  1.000e+00\n",
      "Problem data seem to be well scaled\n"
     ]
    }
   ],
   "source": [
    "model = cobra.io.read_sbml_model('model.xml')"
   ]
  },
  {
   "cell_type": "code",
   "execution_count": 10,
   "metadata": {},
   "outputs": [],
   "source": [
    "medium = {\n",
    "    'EX_cpd00058_e0': 1000, # Cu2+_e0\n",
    "    # 'EX_cpd00065_e0': 1000, # L-Tryptophan_e0\n",
    "    # 'EX_cpd03726_e0': 1000, # Fe-enterochlin_e0\n",
    "    # 'EX_cpd00039_e0': 1000, # L-Lysine_e0\n",
    "    # 'EX_cpd00322_e0': 1000, # L-Isoleucine_e0\n",
    "    # 'EX_cpd03453_e0': 1000, # Enterobactin_e0\n",
    "    # 'EX_cpd00644_e0': 1000, # PAN_e0\n",
    "    'EX_cpd00007_e0': 2, # O2_e0\n",
    "    'EX_cpd00971_e0': 1000, # Na+_e0\n",
    "    # 'EX_cpd00132_e0': 1000, # L-Asparagine_e0\n",
    "    # 'EX_cpd00035_e0': 1000, # L-Alanine_e0\n",
    "    # 'EX_cpd00393_e0': 1000, # Folate_e0\n",
    "    'EX_cpd00063_e0': 1000, # Ca2+_e0\n",
    "    # 'EX_cpd00028_e0': 1000, # Heme_e0\n",
    "    # 'EX_cpd01080_e0': 1000, # ocdca_e0\n",
    "    'EX_cpd00048_e0': 1000, # Sulfate_e0\n",
    "    # 'EX_cpd00218_e0': 1000, # Niacin_e0\n",
    "    # 'EX_cpd00017_e0': 1000, # S-Adenosyl-L-methionine_e0\n",
    "    # 'EX_cpd00107_e0': 1000, # L-Leucine_e0\n",
    "    # 'EX_cpd00067_e0': 1000, # H+_e0\n",
    "    # 'EX_cpd00051_e0': 1000, # L-Arginine_e0\n",
    "    # 'EX_cpd00116_e0': 1000, # Methanol_e0\n",
    "    # 'EX_cpd00100_e0': 1000, # Glycerol_e0\n",
    "    # 'EX_cpd03847_e0': 1000, # Myristic acid_e0\n",
    "    # 'EX_cpd00069_e0': 1000, # L-Tyrosine_e0\n",
    "    'EX_cpd10516_e0': 1000, # fe3_e0\n",
    "    # 'EX_cpd00054_e0': 1000, # L-Serine_e0\n",
    "    # 'EX_cpd00119_e0': 1000, # L-Histidine_e0\n",
    "    # 'EX_cpd00142_e0': 1000, # Acetoacetate_e0\n",
    "    'EX_cpd00254_e0': 1000, # Mg_e0\n",
    "    # 'EX_cpd00029_e0': 10, # Acetate_e0\n",
    "    # 'EX_cpd00084_e0': 1000, # L-Cysteine_e0\n",
    "    # 'EX_cpd00053_e0': 1000, # L-Glutamine_e0\n",
    "    # 'EX_cpd00118_e0': 1000, # Putrescine_e0\n",
    "    'EX_cpd00027_e0': 17, # D-Glucose_e0\n",
    "    # 'EX_cpd00156_e0': 1000, # L-Valine_e0\n",
    "    'EX_cpd00009_e0': 1000, # Phosphate_e0\n",
    "    # 'EX_cpd00047_e0': 1000, # Formate_e0\n",
    "    # 'EX_cpd00211_e0': 1000, # Butyrate_e0\n",
    "    # 'EX_cpd00305_e0': 1000, # Thiamin_e0\n",
    "    # 'EX_cpd00214_e0': 1000, # Palmitate_e0\n",
    "    # 'EX_cpd00129_e0': 1000, # L-Proline_e0\n",
    "    # 'EX_cpd00220_e0': 1000, # Riboflavin_e0\n",
    "    # 'EX_cpd00264_e0': 1000, # Spermidine_e0\n",
    "    # 'EX_cpd00041_e0': 1000, # L-Aspartate_e0\n",
    "    'EX_cpd00205_e0': 1000, # K+_e0\n",
    "    'EX_cpd00013_e0': 1000, # NH3_e0\n",
    "    'EX_cpd00099_e0': 1000, # Cl-_e0\n",
    "    # 'EX_cpd00104_e0': 1000, # BIOT_e0\n",
    "    # 'EX_cpd00011_e0': 1000, # CO2_e0\n",
    "    # 'EX_cpd00215_e0': 1000, # Pyridoxal_e0\n",
    "    'EX_cpd00030_e0': 1000, # Mn2+_e0\n",
    "    # 'EX_cpd00066_e0': 1000, # L-Phenylalanine_e0\n",
    "    'EX_cpd00075_e0': 1000, # Nitrite_e0\n",
    "    'EX_cpd00001_e0': 1000, # H2O_e0\n",
    "    'EX_cpd00635_e0': 1000, # Cbl_e0\n",
    "    # 'EX_cpd00023_e0': 1000, # L-Glutamate_e0\n",
    "    'EX_cpd00034_e0': 1000, # Zn2+_e0\n",
    "    # 'EX_cpd00161_e0': 1000, # L-Threonine_e0\n",
    "    'EX_cpd00149_e0': 1000, # Co2+_e0\n",
    "    # 'EX_cpd00033_e0': 1000, # Glycine_e0\n",
    "    # 'EX_cpd00060_e0': 1000, # L-Methionine_e0\n",
    "}"
   ]
  },
  {
   "cell_type": "code",
   "execution_count": 11,
   "metadata": {},
   "outputs": [],
   "source": [
    "model.medium = medium"
   ]
  },
  {
   "cell_type": "code",
   "execution_count": 12,
   "metadata": {},
   "outputs": [
    {
     "data": {
      "text/plain": [
       "{'EX_cpd00058_e0': 1000,\n",
       " 'EX_cpd00007_e0': 2,\n",
       " 'EX_cpd00971_e0': 1000,\n",
       " 'EX_cpd00063_e0': 1000,\n",
       " 'EX_cpd00048_e0': 1000,\n",
       " 'EX_cpd10516_e0': 1000,\n",
       " 'EX_cpd00254_e0': 1000,\n",
       " 'EX_cpd00027_e0': 17,\n",
       " 'EX_cpd00009_e0': 1000,\n",
       " 'EX_cpd00205_e0': 1000,\n",
       " 'EX_cpd00013_e0': 1000,\n",
       " 'EX_cpd00099_e0': 1000,\n",
       " 'EX_cpd00030_e0': 1000,\n",
       " 'EX_cpd00075_e0': 1000,\n",
       " 'EX_cpd00001_e0': 1000,\n",
       " 'EX_cpd00635_e0': 1000,\n",
       " 'EX_cpd00034_e0': 1000,\n",
       " 'EX_cpd00149_e0': 1000}"
      ]
     },
     "execution_count": 12,
     "metadata": {},
     "output_type": "execute_result"
    }
   ],
   "source": [
    "model.medium"
   ]
  },
  {
   "cell_type": "code",
   "execution_count": 17,
   "metadata": {},
   "outputs": [
    {
     "data": {
      "text/html": [
       "<strong><em>Optimal</em> solution with objective value 2.050</strong><br><div>\n",
       "<style scoped>\n",
       "    .dataframe tbody tr th:only-of-type {\n",
       "        vertical-align: middle;\n",
       "    }\n",
       "\n",
       "    .dataframe tbody tr th {\n",
       "        vertical-align: top;\n",
       "    }\n",
       "\n",
       "    .dataframe thead th {\n",
       "        text-align: right;\n",
       "    }\n",
       "</style>\n",
       "<table border=\"1\" class=\"dataframe\">\n",
       "  <thead>\n",
       "    <tr style=\"text-align: right;\">\n",
       "      <th></th>\n",
       "      <th>fluxes</th>\n",
       "      <th>reduced_costs</th>\n",
       "    </tr>\n",
       "  </thead>\n",
       "  <tbody>\n",
       "    <tr>\n",
       "      <th>rxn00247_c0</th>\n",
       "      <td>0.000000</td>\n",
       "      <td>-1.110223e-16</td>\n",
       "    </tr>\n",
       "    <tr>\n",
       "      <th>rxn05625_c0</th>\n",
       "      <td>-2.872654</td>\n",
       "      <td>-0.000000e+00</td>\n",
       "    </tr>\n",
       "    <tr>\n",
       "      <th>rxn02342_c0</th>\n",
       "      <td>0.000000</td>\n",
       "      <td>0.000000e+00</td>\n",
       "    </tr>\n",
       "    <tr>\n",
       "      <th>rxn06493_c0</th>\n",
       "      <td>0.047897</td>\n",
       "      <td>5.451988e-18</td>\n",
       "    </tr>\n",
       "    <tr>\n",
       "      <th>rxn02376_c0</th>\n",
       "      <td>0.000000</td>\n",
       "      <td>-0.000000e+00</td>\n",
       "    </tr>\n",
       "    <tr>\n",
       "      <th>...</th>\n",
       "      <td>...</td>\n",
       "      <td>...</td>\n",
       "    </tr>\n",
       "    <tr>\n",
       "      <th>EX_cpd00033_e0</th>\n",
       "      <td>0.000000</td>\n",
       "      <td>-1.929181e-01</td>\n",
       "    </tr>\n",
       "    <tr>\n",
       "      <th>EX_cpd00060_e0</th>\n",
       "      <td>0.000000</td>\n",
       "      <td>-1.929181e-01</td>\n",
       "    </tr>\n",
       "    <tr>\n",
       "      <th>DM_cpd15302_c0</th>\n",
       "      <td>0.000000</td>\n",
       "      <td>0.000000e+00</td>\n",
       "    </tr>\n",
       "    <tr>\n",
       "      <th>DM_cpd02701_c0</th>\n",
       "      <td>0.005752</td>\n",
       "      <td>0.000000e+00</td>\n",
       "    </tr>\n",
       "    <tr>\n",
       "      <th>DM_cpd11416_c0</th>\n",
       "      <td>2.049755</td>\n",
       "      <td>0.000000e+00</td>\n",
       "    </tr>\n",
       "  </tbody>\n",
       "</table>\n",
       "<p>880 rows × 2 columns</p>\n",
       "</div>"
      ],
      "text/plain": [
       "<Solution 2.050 at 0x16a059a00>"
      ]
     },
     "execution_count": 17,
     "metadata": {},
     "output_type": "execute_result"
    }
   ],
   "source": [
    "model.optimize()"
   ]
  },
  {
   "cell_type": "code",
   "execution_count": 13,
   "metadata": {},
   "outputs": [
    {
     "data": {
      "text/html": [
       "<strong><em>Optimal</em> solution with objective value 1435.244</strong><br><div>\n",
       "<style scoped>\n",
       "    .dataframe tbody tr th:only-of-type {\n",
       "        vertical-align: middle;\n",
       "    }\n",
       "\n",
       "    .dataframe tbody tr th {\n",
       "        vertical-align: top;\n",
       "    }\n",
       "\n",
       "    .dataframe thead th {\n",
       "        text-align: right;\n",
       "    }\n",
       "</style>\n",
       "<table border=\"1\" class=\"dataframe\">\n",
       "  <thead>\n",
       "    <tr style=\"text-align: right;\">\n",
       "      <th></th>\n",
       "      <th>fluxes</th>\n",
       "      <th>reduced_costs</th>\n",
       "    </tr>\n",
       "  </thead>\n",
       "  <tbody>\n",
       "    <tr>\n",
       "      <th>rxn00247_c0</th>\n",
       "      <td>0.000000</td>\n",
       "      <td>16.000000</td>\n",
       "    </tr>\n",
       "    <tr>\n",
       "      <th>rxn05625_c0</th>\n",
       "      <td>-2.872654</td>\n",
       "      <td>2.000000</td>\n",
       "    </tr>\n",
       "    <tr>\n",
       "      <th>rxn02342_c0</th>\n",
       "      <td>0.000000</td>\n",
       "      <td>-2.000000</td>\n",
       "    </tr>\n",
       "    <tr>\n",
       "      <th>rxn06493_c0</th>\n",
       "      <td>0.047897</td>\n",
       "      <td>-2.000000</td>\n",
       "    </tr>\n",
       "    <tr>\n",
       "      <th>rxn02376_c0</th>\n",
       "      <td>0.000000</td>\n",
       "      <td>2.000000</td>\n",
       "    </tr>\n",
       "    <tr>\n",
       "      <th>...</th>\n",
       "      <td>...</td>\n",
       "      <td>...</td>\n",
       "    </tr>\n",
       "    <tr>\n",
       "      <th>EX_cpd00033_e0</th>\n",
       "      <td>0.000000</td>\n",
       "      <td>85.777778</td>\n",
       "    </tr>\n",
       "    <tr>\n",
       "      <th>EX_cpd00060_e0</th>\n",
       "      <td>0.000000</td>\n",
       "      <td>8.111111</td>\n",
       "    </tr>\n",
       "    <tr>\n",
       "      <th>DM_cpd15302_c0</th>\n",
       "      <td>0.000000</td>\n",
       "      <td>-2.000000</td>\n",
       "    </tr>\n",
       "    <tr>\n",
       "      <th>DM_cpd02701_c0</th>\n",
       "      <td>0.005752</td>\n",
       "      <td>-2.000000</td>\n",
       "    </tr>\n",
       "    <tr>\n",
       "      <th>DM_cpd11416_c0</th>\n",
       "      <td>2.049755</td>\n",
       "      <td>-2.000000</td>\n",
       "    </tr>\n",
       "  </tbody>\n",
       "</table>\n",
       "<p>880 rows × 2 columns</p>\n",
       "</div>"
      ],
      "text/plain": [
       "<Solution 1435.244 at 0x14a755fd0>"
      ]
     },
     "execution_count": 13,
     "metadata": {},
     "output_type": "execute_result"
    }
   ],
   "source": [
    "sol = cobra.flux_analysis.pfba(model)\n",
    "sol"
   ]
  },
  {
   "cell_type": "code",
   "execution_count": 6,
   "metadata": {},
   "outputs": [],
   "source": [
    "# Get the fluxes for each reaction in the model\n",
    "fluxes = sol.fluxes"
   ]
  },
  {
   "cell_type": "code",
   "execution_count": 7,
   "metadata": {},
   "outputs": [
    {
     "name": "stdout",
     "output_type": "stream",
     "text": [
      "rxn00251_c0 | phosphate:oxaloacetate carboxy-lyase (adding phosphate;phosphoenolpyruvate-forming)_c0 | -1.0 Phosphate_c0 (cpd00009_c0) + -1.0 Oxaloacetate_c0 (cpd00032_c0) + -1.0 H+_c0 (cpd00067_c0) + 1.0 H2O_c0 (cpd00001_c0) + 1.0 CO2_c0 (cpd00011_c0) + 1.0 Phosphoenolpyruvate_c0 (cpd00061_c0) : 0.1356902889006315 | Bounds: [-1000.0, 1000.0]\n",
      "rxn00102_c0 | carbonate hydro-lyase (carbon-dioxide-forming)_c0 | -1.0 H+_c0 (cpd00067_c0) + -1.0 H2CO3_c0 (cpd00242_c0) + 1.0 H2O_c0 (cpd00001_c0) + 1.0 CO2_c0 (cpd00011_c0) : -0.4477141879443872 | Bounds: [-1000.0, 1000.0]\n",
      "rxn00011_c0 | pyruvate:thiamin diphosphate acetaldehydetransferase (decarboxylating)_c0 | -1.0 CO2_c0 (cpd00011_c0) + -1.0 2-Hydroxyethyl-ThPP_c0 (cpd03049_c0) + 1.0 Pyruvate_c0 (cpd00020_c0) + 1.0 TPP_c0 (cpd00056_c0) + 1.0 H+_c0 (cpd00067_c0) : -0.2900084689327255 | Bounds: [-1000.0, 0.0]\n",
      "rxn05467_c0 | CO2 transporter via diffusion_c0 | -1.0 CO2_e0 (cpd00011_e0) + 1.0 CO2_c0 (cpd00011_c0) : -0.366316814103953 | Bounds: [-1000.0, 1000.0]\n",
      "rxn00710_c0 | orotidine-5'-phosphate carboxy-lyase (UMP-forming)_c0 | -1.0 H+_c0 (cpd00067_c0) + -1.0 Orotidylic acid_c0 (cpd00810_c0) + 1.0 CO2_c0 (cpd00011_c0) + 1.0 UMP_c0 (cpd00091_c0) : 0.06239725368724086 | Bounds: [0.0, 1000.0]\n",
      "rxn01268_c0 | Prephenate:NAD+ oxidoreductase(decarboxylating)_c0 | -1.0 NAD_c0 (cpd00003_c0) + -1.0 Prephenate_c0 (cpd00219_c0) + 1.0 NADH_c0 (cpd00004_c0) + 1.0 CO2_c0 (cpd00011_c0) + 1.0 p-hydroxyphenylpyruvate_c0 (cpd00868_c0) : 0.03672804121206123 | Bounds: [0.0, 1000.0]\n",
      "rxn09202_c0 | Phosphatidylserine decarboxylase (n-C18:0)_c0 | -2.0 H+_c0 (cpd00067_c0) + -1.0 phosphatidylserine dioctadecanoyl_c0 (cpd15557_c0) + 1.0 CO2_c0 (cpd00011_c0) + 1.0 phosphatidylethanolamine dioctadecanoyl_c0 (cpd15533_c0) : 0.009263701894449597 | Bounds: [0.0, 1000.0]\n",
      "rxn00405_c0 | L-arginine carboxy-lyase (agmatine-forming)_c0 | -1.0 L-Arginine_c0 (cpd00051_c0) + -1.0 H+_c0 (cpd00067_c0) + 1.0 CO2_c0 (cpd00011_c0) + 1.0 Agmatine_c0 (cpd00152_c0) : 0.0016692974163780598 | Bounds: [0.0, 1000.0]\n",
      "rxn00113_c0 | Carbon-dioxide:ammonia ligase (ADP-forming,carbamate-phosphorylating)_c0 | -1.0 H2O_c0 (cpd00001_c0) + -2.0 ATP_c0 (cpd00002_c0) + -1.0 CO2_c0 (cpd00011_c0) + -1.0 NH3_c0 (cpd00013_c0) + 2.0 ADP_c0 (cpd00008_c0) + 1.0 Phosphate_c0 (cpd00009_c0) + 3.0 H+_c0 (cpd00067_c0) + 1.0 Carbamoylphosphate_c0 (cpd00146_c0) : 0.13744271142518832 | Bounds: [0.0, 1000.0]\n",
      "rxn00313_c0 | meso-2,6-diaminoheptanedioate carboxy-lyase (L-lysine-forming)_c0 | -1.0 H+_c0 (cpd00067_c0) + -1.0 meso-2,6-Diaminopimelate_c0 (cpd00516_c0) + 1.0 CO2_c0 (cpd00011_c0) + 1.0 L-Lysine_c0 (cpd00039_c0) : 0.0848991313467976 | Bounds: [0.0, 1000.0]\n",
      "rxn00853_c0 | N-Carbamoylputrescine amidohydrolase_c0 | -1.0 H2O_c0 (cpd00001_c0) + -2.0 H+_c0 (cpd00067_c0) + -1.0 N-Carbamoylputrescine_c0 (cpd00341_c0) + 1.0 CO2_c0 (cpd00011_c0) + 1.0 NH3_c0 (cpd00013_c0) + 1.0 Putrescine_c0 (cpd00118_c0) : 0.0016692974163780598 | Bounds: [0.0, 1000.0]\n",
      "rxn01208_c0 | R01652_c0 | -1.0 CO2_c0 (cpd00011_c0) + -1.0 4MOP_c0 (cpd00200_c0) + 1.0 H+_c0 (cpd00067_c0) + 1.0 2-isopropyl-3-oxosuccinate_c0 (cpd02605_c0) : -0.11165361579617865 | Bounds: [-1000.0, 0.0]\n",
      "rxn03909_c0 | 1-Deoxy-D-xylulose-5-phosphate pyruvate-lyase (carboxylating)_c0 | -1.0 Pyruvate_c0 (cpd00020_c0) + -1.0 H+_c0 (cpd00067_c0) + -1.0 Glyceraldehyde3-phosphate_c0 (cpd00102_c0) + 1.0 CO2_c0 (cpd00011_c0) + 1.0 1-deoxy-D-xylulose5-phosphate_c0 (cpd08289_c0) : 0.0016692974163780598 | Bounds: [0.0, 1000.0]\n",
      "rxn02277_c0 | 7,8-Diaminononanoate:carbon-dioxide cyclo-ligase_c0 | -1.0 ATP_c0 (cpd00002_c0) + -1.0 CO2_c0 (cpd00011_c0) + -1.0 7-8-Diaminononanoate_c0 (cpd00764_c0) + 1.0 ADP_c0 (cpd00008_c0) + 1.0 Phosphate_c0 (cpd00009_c0) + 3.0 H+_c0 (cpd00067_c0) + 1.0 Dethiobiotin_c0 (cpd01311_c0) : 0.0008346487081890299 | Bounds: [0.0, 1000.0]\n",
      "rxn02297_c0 | 6-Carboxyhexanoyl-CoA:L-alanine C-carboxyhexanoyltransferase (decarboxylating)_c0 | -1.0 L-Alanine_c0 (cpd00035_c0) + -1.0 H+_c0 (cpd00067_c0) + -1.0 Pimeloyl-CoA_c0 (cpd00782_c0) + 1.0 CoA_c0 (cpd00010_c0) + 1.0 CO2_c0 (cpd00011_c0) + 1.0 8-Amino-7-oxononanoate_c0 (cpd00800_c0) : 0.0008346487081890299 | Bounds: [0.0, 1000.0]\n",
      "rxn11663_c0 | 4-(phosphonooxy)threonine:NAD oxidoreductase_c0 | -1.0 NAD_c0 (cpd00003_c0) + -1.0 4-(Phosphonooxy)-threonine_c0 (cpd03607_c0) + 1.0 NADH_c0 (cpd00004_c0) + 1.0 CO2_c0 (cpd00011_c0) + 1.0 3-Amino-2-oxopropyl phosphate_c0 (cpd08449_c0) : 0.0008346487081890299 | Bounds: [0.0, 1000.0]\n",
      "rxn15949_c0 | carboxyspermidine carboxy-lyase (spermidine-forming)_c0 | -1.0 H+_c0 (cpd00067_c0) + -1.0 Carboxyspermidine_c0 (cpd19442_c0) + 1.0 CO2_c0 (cpd00011_c0) + 1.0 Spermidine_c0 (cpd00264_c0) : 0.0008346487081890299 | Bounds: [0.0, 1000.0]\n",
      "rxn02507_c0 | 1-(2-Carboxyphenylamino)-1-deoxy-D-ribulose-5-phosphate carboxy-lyase(cyclizing)_c0 | -1.0 1-(2-carboxyphenylamino)-1-deoxyribulose 5-phosphate_c0 (cpd00956_c0) + -1.0 H+_c0 (cpd00067_c0) + 1.0 H2O_c0 (cpd00001_c0) + 1.0 Indoleglycerol phosphate_c0 (cpd02210_c0) + 1.0 CO2_c0 (cpd00011_c0) : 0.014039481938784 | Bounds: [0.0, 1000.0]\n",
      "rxn09428_c0 | fatty-acyl-ACP synthase (n-C18:0ACP), mitochondrial_c0 | -2.0 NADPH_c0 (cpd00005_c0) + -2.0 H+_c0 (cpd00067_c0) + -1.0 Malonyl-acyl-carrierprotein-_c0 (cpd11492_c0) + -1.0 Palmitoyl-ACP_c0 (cpd15277_c0) + 2.0 NADP_c0 (cpd00006_c0) + 1.0 ACP_c0 (cpd11493_c0) + 1.0 CO2_c0 (cpd00011_c0) + 1.0 Octadecanoyl-ACP_c0 (cpd15268_c0) + 1.0 H2O_c0 (cpd00001_c0) : 0.03705480757779839 | Bounds: [0.0, 1000.0]\n",
      "rxn02288_c0 | Uroporphyrinogen-III carboxy-lyase_c0 | -4.0 H+_c0 (cpd00067_c0) + -1.0 UroporphyrinogenIII_c0 (cpd00774_c0) + 4.0 CO2_c0 (cpd00011_c0) + 1.0 CoproporphyrinogenIII_c0 (cpd02083_c0) : 0.0008346487081890299 | Bounds: [0.0, 1000.0]\n",
      "rxn02341_c0 | N-[(R)-4'-Phosphopantothenoyl]-L-cysteine carboxy-lyase_c0 | -1.0 (R)-4'-Phosphopantothenoyl-L-cysteine_c0 (cpd02666_c0) + -1.0 H+_c0 (cpd00067_c0) + 1.0 Phosphopantetheine_c0 (cpd00834_c0) + 1.0 CO2_c0 (cpd00011_c0) : 0.0016692974163780296 | Bounds: [0.0, 1000.0]\n",
      "rxn09439_c0 | fatty-acyl-ACP synthase (n-C12:0ACP), mitochondrial_c0 | -2.0 NADPH_c0 (cpd00005_c0) + -1.0 Malonyl-acyl-carrierprotein-_c0 (cpd11492_c0) + -2.0 H+_c0 (cpd00067_c0) + -1.0 Decanoyl-ACP_c0 (cpd11474_c0) + 1.0 Dodecanoyl-ACP_c0 (cpd11468_c0) + 2.0 NADP_c0 (cpd00006_c0) + 1.0 ACP_c0 (cpd11493_c0) + 1.0 H2O_c0 (cpd00001_c0) + 1.0 CO2_c0 (cpd00011_c0) : 0.007439016065458586 | Bounds: [0.0, 1000.0]\n",
      "rxn09429_c0 | fatty acid synthase (n-C18:0)_c0 | -1.0 Palmitate_c0 (cpd00214_c0) + -2.0 NADPH_c0 (cpd00005_c0) + -1.0 Malonyl-CoA_c0 (cpd00070_c0) + -3.0 H+_c0 (cpd00067_c0) + 2.0 NADP_c0 (cpd00006_c0) + 1.0 CoA_c0 (cpd00010_c0) + 1.0 H2O_c0 (cpd00001_c0) + 1.0 ocdca_c0 (cpd01080_c0) + 1.0 CO2_c0 (cpd00011_c0) : 0.03705480757779839 | Bounds: [0.0, 1000.0]\n",
      "rxn09422_c0 | fatty acyl-ACP synthase (n-C8:0ACP), mitochondrial, lumped reaction_c0 | -1.0 Acetyl-ACP_c0 (cpd11494_c0) + -6.0 H+_c0 (cpd00067_c0) + -3.0 Malonyl-acyl-carrierprotein-_c0 (cpd11492_c0) + -6.0 NADPH_c0 (cpd00005_c0) + 3.0 CO2_c0 (cpd00011_c0) + 3.0 H2O_c0 (cpd00001_c0) + 3.0 ACP_c0 (cpd11493_c0) + 6.0 NADP_c0 (cpd00006_c0) + 1.0 Octanoyl-ACP_c0 (cpd11470_c0) : 0.007439016065458586 | Bounds: [0.0, 1000.0]\n",
      "rxn01419_c0 | (1R,2S)-1-hydroxybutane-1,2,4-tricarboxylate:NAD+ oxidoreductase (decarboxylating)_c0 | -1.0 Homoisocitrate_c0 (cpd03372_c0) + -1.0 NAD_c0 (cpd00003_c0) + 1.0 NADH_c0 (cpd00004_c0) + 1.0 2-Oxoadipate_c0 (cpd00269_c0) + 1.0 CO2_c0 (cpd00011_c0) : 0.0008346487081890299 | Bounds: [0.0, 1000.0]\n",
      "rxn00346_c0 | L-aspartate 1-carboxy-lyase (beta-alanine-forming)_c0 | -1.0 L-Aspartate_c0 (cpd00041_c0) + -1.0 H+_c0 (cpd00067_c0) + 1.0 beta-Alanine_c0 (cpd00085_c0) + 1.0 CO2_c0 (cpd00011_c0) : 0.0016692974163780296 | Bounds: [0.0, 1000.0]\n",
      "rxn03393_c0 | 3-octaprenyl-4-hydroxybenzoate carboxy-lyase_c0 | -1.0 H+_c0 (cpd00067_c0) + -1.0 3-Octaprenyl-4-hydroxybenzoate_c0 (cpd03443_c0) + 1.0 CO2_c0 (cpd00011_c0) + 1.0 2-Octaprenylphenol_c0 (cpd03444_c0) : 0.0008346487081890299 | Bounds: [0.0, 1000.0]\n",
      "rxn09442_c0 | fatty-acyl-ACP synthase (n-C10:0ACP), mitochondrial_c0 | -1.0 Malonyl-acyl-carrierprotein-_c0 (cpd11492_c0) + -2.0 H+_c0 (cpd00067_c0) + -2.0 NADPH_c0 (cpd00005_c0) + -1.0 Octanoyl-ACP_c0 (cpd11470_c0) + 1.0 H2O_c0 (cpd00001_c0) + 1.0 Decanoyl-ACP_c0 (cpd11474_c0) + 1.0 CO2_c0 (cpd00011_c0) + 2.0 NADP_c0 (cpd00006_c0) + 1.0 ACP_c0 (cpd11493_c0) : 0.007439016065458586 | Bounds: [0.0, 1000.0]\n",
      "rxn02402_c0 | Nicotinate-nucleotide:pyrophosphate phosphoribosyltransferase (carboxylating)_c0 | -1.0 Nicotinate ribonucleotide_c0 (cpd00873_c0) + -1.0 PPi_c0 (cpd00012_c0) + -1.0 CO2_c0 (cpd00011_c0) + 1.0 PRPP_c0 (cpd00103_c0) + 1.0 H+_c0 (cpd00067_c0) + 1.0 Quinolinate_c0 (cpd02333_c0) : -0.00250394612456754 | Bounds: [-1000.0, 0.0]\n",
      "rxn04675_c0 | menaquinone biosynthesis protein-related_c0 | -1.0 2-Oxoglutarate_c0 (cpd00024_c0) + -1.0 Isochorismate_c0 (cpd00658_c0) + -1.0 H+_c0 (cpd00067_c0) + 1.0 Pyruvate_c0 (cpd00020_c0) + 1.0 CO2_c0 (cpd00011_c0) + 1.0 SHCHC_c0 (cpd03451_c0) : 0.0016692974163780598 | Bounds: [0.0, 1000.0]\n",
      "rxn01000_c0 | prephenate hydro-lyase (decarboxylating; phenylpyruvate-forming)_c0 | -1.0 H+_c0 (cpd00067_c0) + -1.0 Prephenate_c0 (cpd00219_c0) + 1.0 CO2_c0 (cpd00011_c0) + 1.0 H2O_c0 (cpd00001_c0) + 1.0 Phenylpyruvate_c0 (cpd00143_c0) : 0.0459594361580948 | Bounds: [0.0, 1000.0]\n",
      "rxn08333_c0 | 1,4-dihydroxy-2-naphthoate octaprenyltransferase_c0 | -1.0 Farnesylfarnesylgeraniol_c0 (cpd02557_c0) + -1.0 1-4-Dihydroxy-2-naphthoate_c0 (cpd02295_c0) + 1.0 2-Demethylmenaquinol 8_c0 (cpd15353_c0) + 1.0 CO2_c0 (cpd00011_c0) + 1.0 PPi_c0 (cpd00012_c0) : 0.0016692974163780598 | Bounds: [0.0, 1000.0]\n",
      "rxn00829_c0 | ATP:(R)-5-diphosphomevalonate carboxy-lyase (adding ATP; isopentenyl-diphosphate-forming)_c0 | -1.0 ATP_c0 (cpd00002_c0) + -1.0 5-diphosphomevalonate_c0 (cpd00841_c0) + 1.0 Phosphate_c0 (cpd00009_c0) + 1.0 CO2_c0 (cpd00011_c0) + 1.0 Isopentenyldiphosphate_c0 (cpd00113_c0) + 1.0 ADP_c0 (cpd00008_c0) : 0.10186074571658117 | Bounds: [0.0, 1000.0]\n",
      "rxn09310_c0 | thiazole phosphate synthesis_c0 | -1.0 L-Tyrosine_c0 (cpd00069_c0) + -1.0 1-deoxy-D-xylulose5-phosphate_c0 (cpd08289_c0) + -1.0 L-Cysteine_c0 (cpd00084_c0) + -1.0 ATP_c0 (cpd00002_c0) + 1.0 CO2_c0 (cpd00011_c0) + 1.0 4-Hydroxy-benzylalcohol_c0 (cpd15378_c0) + 1.0 H2O_c0 (cpd00001_c0) + 1.0 4-Methyl-5--2-phosphoethyl-thiazole_c0 (cpd02654_c0) + 2.0 H+_c0 (cpd00067_c0) + 1.0 L-Alanine_c0 (cpd00035_c0) + 1.0 AMP_c0 (cpd00018_c0) + 1.0 PPi_c0 (cpd00012_c0) : 0.0008346487081890299 | Bounds: [0.0, 1000.0]\n",
      "rxn05744_c0 | b-ketoacyl synthetase (n-C14:0)_c0 | -17.0 H+_c0 (cpd00067_c0) + -6.0 Malonyl-CoA_c0 (cpd00070_c0) + -1.0 Acetyl-CoA_c0 (cpd00022_c0) + -12.0 NADPH_c0 (cpd00005_c0) + 6.0 CO2_c0 (cpd00011_c0) + 5.0 H2O_c0 (cpd00001_c0) + 7.0 CoA_c0 (cpd00010_c0) + 12.0 NADP_c0 (cpd00006_c0) + 1.0 Myristic acid_c0 (cpd03847_c0) : 0.037195080327292934 | Bounds: [0.0, 1000.0]\n",
      "rxn06377_c0 | glycine:lipoylprotein oxidoreductase (decarboxylating and acceptor-aminomethylating)_c0 | -1.0 Glycine_c0 (cpd00033_c0) + -1.0 H+_c0 (cpd00067_c0) + -1.0 Lipoylprotein_c0 (cpd12005_c0) + 1.0 CO2_c0 (cpd00011_c0) + 1.0 S-Aminomethyldihydrolipoylprotein_c0 (cpd11830_c0) : 0.006950278129982644 | Bounds: [0.0, 1000.0]\n",
      "rxn05939_c0 | 2-oxoglutarate synthase (rev)_c0 | -1.0 Succinyl-CoA_c0 (cpd00078_c0) + -1.0 CO2_c0 (cpd00011_c0) + -1.0 H+_c0 (cpd00067_c0) + -1.0 Reducedferredoxin_c0 (cpd11620_c0) + 1.0 Oxidizedferredoxin_c0 (cpd11621_c0) + 1.0 CoA_c0 (cpd00010_c0) + 1.0 2-Oxoglutarate_c0 (cpd00024_c0) : 0.306656720224129 | Bounds: [0.0, 1000.0]\n",
      "rxn01418_c0 | 2-oxoadipate dehydrogenase complex_c0 | -1.0 CoA_c0 (cpd00010_c0) + -1.0 2-Oxoadipate_c0 (cpd00269_c0) + -1.0 H+_c0 (cpd00067_c0) + -1.0 NAD_c0 (cpd00003_c0) + 1.0 NADH_c0 (cpd00004_c0) + 1.0 Glutaryl-CoA_c0 (cpd00413_c0) + 1.0 CO2_c0 (cpd00011_c0) : 0.0008346487081890299 | Bounds: [0.0, 1000.0]\n",
      "rxn02303_c0 | Coproporphyrinogen:oxygen oxidoreductase(decarboxylating)_c0 | -1.0 CoproporphyrinogenIII_c0 (cpd02083_c0) + -2.0 H+_c0 (cpd00067_c0) + -1.0 O2_c0 (cpd00007_c0) + 2.0 H2O_c0 (cpd00001_c0) + 1.0 ProtoporphyrinogenIX_c0 (cpd00791_c0) + 2.0 CO2_c0 (cpd00011_c0) : 0.0008346487081890299 | Bounds: [0.0, 1000.0]\n"
     ]
    }
   ],
   "source": [
    "# Display all reactions going through a Metabolite of interest\n",
    "\n",
    "def get_readable_metabolite_name(metabolite):\n",
    "    return f\"{metabolite.name} ({metabolite.id})\"\n",
    "\n",
    "#metabolite_id = \"cpd00007_c0\" # (O2)\n",
    "metabolite_id = \"cpd00011_c0\" # (CO2)\n",
    "# metabolite_id = \"cpd00002_c0\" # (ATP)\n",
    "\n",
    "\n",
    "# Check if the metabolite exists in the model\n",
    "if metabolite_id in model.metabolites:\n",
    "    metabolite = model.metabolites.get_by_id(metabolite_id)\n",
    "else:\n",
    "    raise ValueError(f\"Metabolite {metabolite_id} not found in the model.\")\n",
    "\n",
    "# Find all reactions containing the metabolite\n",
    "reactions_with_metabolite = [reaction for reaction in model.reactions if metabolite in reaction.metabolites]\n",
    "\n",
    "\n",
    "# Print the nonzero flux reactions containing the metabolite, flux, and bounds\n",
    "for reaction in reactions_with_metabolite:\n",
    "    reaction_id = reaction.id\n",
    "    flux = fluxes[reaction_id]\n",
    "    \n",
    "    # Filter out reactions with near-zero flux (using a threshold, e.g., 1e-6)\n",
    "    if abs(flux) > 1e-6:\n",
    "        lower_bound = reaction.lower_bound\n",
    "        upper_bound = reaction.upper_bound\n",
    "        readable_reaction_string = \" + \".join([f\"{coefficient} {get_readable_metabolite_name(met)}\" for met, coefficient in reaction.metabolites.items()])\n",
    "        print(f\"{reaction_id} | {reaction.name} | {readable_reaction_string} : {flux} | Bounds: [{lower_bound}, {upper_bound}]\")"
   ]
  },
  {
   "cell_type": "code",
   "execution_count": 8,
   "metadata": {},
   "outputs": [
    {
     "data": {
      "text/plain": [
       "0.366316814103953"
      ]
     },
     "execution_count": 8,
     "metadata": {},
     "output_type": "execute_result"
    }
   ],
   "source": [
    "fluxes['EX_cpd00011_e0']"
   ]
  }
 ],
 "metadata": {
  "kernelspec": {
   "display_name": "base",
   "language": "python",
   "name": "python3"
  },
  "language_info": {
   "codemirror_mode": {
    "name": "ipython",
    "version": 3
   },
   "file_extension": ".py",
   "mimetype": "text/x-python",
   "name": "python",
   "nbconvert_exporter": "python",
   "pygments_lexer": "ipython3",
   "version": "3.9.13"
  },
  "orig_nbformat": 4
 },
 "nbformat": 4,
 "nbformat_minor": 2
}
